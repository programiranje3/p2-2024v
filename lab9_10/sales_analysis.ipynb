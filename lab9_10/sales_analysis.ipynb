{
 "cells": [
  {
   "cell_type": "markdown",
   "metadata": {
    "pycharm": {
     "name": "#%% md\n"
    }
   },
   "source": [
    "# Uvod u Pandas\n",
    "\n",
    "Napomena: Ovi materijali su delimično bazirani na pandas tutorijalu Keith Galli-a [\"Solving real world data science tasks with Python Pandas!\"](https://github.com/KeithGalli/Pandas-Data-Science-Tasks). Takođe, dataset koji ćemo koristiti - [Sales dataset](https://github.com/KeithGalli/Pandas-Data-Science-Tasks/tree/master/SalesAnalysis/Sales_Data) - je preuzet iz pomenutog tutorijala."
   ]
  },
  {
   "cell_type": "markdown",
   "metadata": {
    "pycharm": {
     "name": "#%% md\n"
    }
   },
   "source": [
    "## Učitavanje potrebnih biblioteka"
   ]
  },
  {
   "cell_type": "code",
   "execution_count": 1,
   "metadata": {
    "pycharm": {
     "name": "#%%\n"
    },
    "ExecuteTime": {
     "end_time": "2024-05-30T17:14:23.851704Z",
     "start_time": "2024-05-30T17:14:20.056972Z"
    }
   },
   "outputs": [],
   "source": [
    "import pandas as pd\n",
    "import matplotlib.pyplot as plt\n",
    "\n",
    "from pathlib import Path"
   ]
  },
  {
   "cell_type": "markdown",
   "metadata": {
    "pycharm": {
     "name": "#%% md\n"
    }
   },
   "source": [
    "## Učitavanje podataka i upoznavanje sa podacima o prodaji za jedan mesec "
   ]
  },
  {
   "cell_type": "markdown",
   "metadata": {
    "pycharm": {
     "name": "#%% md\n"
    }
   },
   "source": [
    "### Učitavanja podataka iz csv fajla\n",
    "\n",
    "Podaci se nalaze u 'sales_data' direktorijumu, u okviru 'data' direktorijuma. \n",
    "Prvo ćemo kreirati DATA_DIR konstantu koja će sadržati putanju do direktorijuma sa podacima   "
   ]
  },
  {
   "cell_type": "code",
   "execution_count": 2,
   "outputs": [],
   "source": [
    "DATA_DIR = Path.cwd() / 'data' / 'sales_data'"
   ],
   "metadata": {
    "collapsed": false,
    "pycharm": {
     "name": "#%%\n"
    },
    "ExecuteTime": {
     "end_time": "2024-05-30T17:14:23.852068Z",
     "start_time": "2024-05-30T17:14:20.686396Z"
    }
   }
  },
  {
   "cell_type": "markdown",
   "metadata": {
    "pycharm": {
     "name": "#%% md\n"
    }
   },
   "source": [
    "Zatim ćemo učitati podatke iz 'Sales_January_2019' csv fajla: "
   ]
  },
  {
   "cell_type": "code",
   "execution_count": 3,
   "metadata": {
    "pycharm": {
     "name": "#%%\n"
    },
    "ExecuteTime": {
     "end_time": "2024-05-30T17:14:23.904869Z",
     "start_time": "2024-05-30T17:14:20.690439Z"
    }
   },
   "outputs": [],
   "source": [
    "jan_sales = pd.read_csv(DATA_DIR / 'Sales_January_2019.csv')"
   ]
  },
  {
   "cell_type": "markdown",
   "metadata": {
    "pycharm": {
     "name": "#%% md\n"
    }
   },
   "source": [
    "### Upoznavanje sa podacima \n",
    "\n",
    "Prikazati prvih 10 redova učitanog dataset-a"
   ]
  },
  {
   "cell_type": "code",
   "execution_count": 4,
   "outputs": [
    {
     "data": {
      "text/plain": "  Order ID                     Product Quantity Ordered Price Each  \\\n0   141234                      iPhone                1        700   \n1   141235    Lightning Charging Cable                1      14.95   \n2   141236            Wired Headphones                2      11.99   \n3   141237            27in FHD Monitor                1     149.99   \n4   141238            Wired Headphones                1      11.99   \n5   141239      AAA Batteries (4-pack)                1       2.99   \n6   141240      27in 4K Gaming Monitor                1     389.99   \n7   141241        USB-C Charging Cable                1      11.95   \n8   141242  Bose SoundSport Headphones                1      99.99   \n9   141243    Apple Airpods Headphones                1        150   \n\n       Order Date                         Purchase Address  \n0  01/22/19 21:25          944 Walnut St, Boston, MA 02215  \n1  01/28/19 14:15         185 Maple St, Portland, OR 97035  \n2  01/17/19 13:33    538 Adams St, San Francisco, CA 94016  \n3  01/05/19 20:33       738 10th St, Los Angeles, CA 90001  \n4  01/25/19 11:59            387 10th St, Austin, TX 73301  \n5  01/29/19 20:22   775 Willow St, San Francisco, CA 94016  \n6  01/26/19 12:16       979 Park St, Los Angeles, CA 90001  \n7  01/05/19 12:04      181 6th St, San Francisco, CA 94016  \n8  01/01/19 10:30     867 Willow St, Los Angeles, CA 90001  \n9  01/22/19 21:20  657 Johnson St, San Francisco, CA 94016  ",
      "text/html": "<div>\n<style scoped>\n    .dataframe tbody tr th:only-of-type {\n        vertical-align: middle;\n    }\n\n    .dataframe tbody tr th {\n        vertical-align: top;\n    }\n\n    .dataframe thead th {\n        text-align: right;\n    }\n</style>\n<table border=\"1\" class=\"dataframe\">\n  <thead>\n    <tr style=\"text-align: right;\">\n      <th></th>\n      <th>Order ID</th>\n      <th>Product</th>\n      <th>Quantity Ordered</th>\n      <th>Price Each</th>\n      <th>Order Date</th>\n      <th>Purchase Address</th>\n    </tr>\n  </thead>\n  <tbody>\n    <tr>\n      <th>0</th>\n      <td>141234</td>\n      <td>iPhone</td>\n      <td>1</td>\n      <td>700</td>\n      <td>01/22/19 21:25</td>\n      <td>944 Walnut St, Boston, MA 02215</td>\n    </tr>\n    <tr>\n      <th>1</th>\n      <td>141235</td>\n      <td>Lightning Charging Cable</td>\n      <td>1</td>\n      <td>14.95</td>\n      <td>01/28/19 14:15</td>\n      <td>185 Maple St, Portland, OR 97035</td>\n    </tr>\n    <tr>\n      <th>2</th>\n      <td>141236</td>\n      <td>Wired Headphones</td>\n      <td>2</td>\n      <td>11.99</td>\n      <td>01/17/19 13:33</td>\n      <td>538 Adams St, San Francisco, CA 94016</td>\n    </tr>\n    <tr>\n      <th>3</th>\n      <td>141237</td>\n      <td>27in FHD Monitor</td>\n      <td>1</td>\n      <td>149.99</td>\n      <td>01/05/19 20:33</td>\n      <td>738 10th St, Los Angeles, CA 90001</td>\n    </tr>\n    <tr>\n      <th>4</th>\n      <td>141238</td>\n      <td>Wired Headphones</td>\n      <td>1</td>\n      <td>11.99</td>\n      <td>01/25/19 11:59</td>\n      <td>387 10th St, Austin, TX 73301</td>\n    </tr>\n    <tr>\n      <th>5</th>\n      <td>141239</td>\n      <td>AAA Batteries (4-pack)</td>\n      <td>1</td>\n      <td>2.99</td>\n      <td>01/29/19 20:22</td>\n      <td>775 Willow St, San Francisco, CA 94016</td>\n    </tr>\n    <tr>\n      <th>6</th>\n      <td>141240</td>\n      <td>27in 4K Gaming Monitor</td>\n      <td>1</td>\n      <td>389.99</td>\n      <td>01/26/19 12:16</td>\n      <td>979 Park St, Los Angeles, CA 90001</td>\n    </tr>\n    <tr>\n      <th>7</th>\n      <td>141241</td>\n      <td>USB-C Charging Cable</td>\n      <td>1</td>\n      <td>11.95</td>\n      <td>01/05/19 12:04</td>\n      <td>181 6th St, San Francisco, CA 94016</td>\n    </tr>\n    <tr>\n      <th>8</th>\n      <td>141242</td>\n      <td>Bose SoundSport Headphones</td>\n      <td>1</td>\n      <td>99.99</td>\n      <td>01/01/19 10:30</td>\n      <td>867 Willow St, Los Angeles, CA 90001</td>\n    </tr>\n    <tr>\n      <th>9</th>\n      <td>141243</td>\n      <td>Apple Airpods Headphones</td>\n      <td>1</td>\n      <td>150</td>\n      <td>01/22/19 21:20</td>\n      <td>657 Johnson St, San Francisco, CA 94016</td>\n    </tr>\n  </tbody>\n</table>\n</div>"
     },
     "execution_count": 4,
     "metadata": {},
     "output_type": "execute_result"
    }
   ],
   "source": [
    "jan_sales.head(10)"
   ],
   "metadata": {
    "collapsed": false,
    "ExecuteTime": {
     "end_time": "2024-05-30T17:14:23.922660Z",
     "start_time": "2024-05-30T17:14:20.713391Z"
    }
   }
  },
  {
   "cell_type": "markdown",
   "metadata": {
    "pycharm": {
     "name": "#%% md\n"
    }
   },
   "source": [
    "Utvrditi dimenzije data frame-a (broj redova i kolona)"
   ]
  },
  {
   "cell_type": "code",
   "execution_count": 5,
   "metadata": {
    "pycharm": {
     "name": "#%%\n"
    },
    "ExecuteTime": {
     "end_time": "2024-05-30T17:14:23.924569Z",
     "start_time": "2024-05-30T17:14:20.723575Z"
    }
   },
   "outputs": [
    {
     "data": {
      "text/plain": "(9723, 6)"
     },
     "execution_count": 5,
     "metadata": {},
     "output_type": "execute_result"
    }
   ],
   "source": [
    "jan_sales.shape"
   ]
  },
  {
   "cell_type": "markdown",
   "metadata": {
    "pycharm": {
     "name": "#%% md\n"
    }
   },
   "source": [
    "Ispisati listu naziva kolona data frame-a"
   ]
  },
  {
   "cell_type": "code",
   "execution_count": 6,
   "metadata": {
    "pycharm": {
     "name": "#%%\n"
    },
    "ExecuteTime": {
     "end_time": "2024-05-30T17:14:23.924984Z",
     "start_time": "2024-05-30T17:14:20.727439Z"
    }
   },
   "outputs": [
    {
     "data": {
      "text/plain": "array(['Order ID', 'Product', 'Quantity Ordered', 'Price Each',\n       'Order Date', 'Purchase Address'], dtype=object)"
     },
     "execution_count": 6,
     "metadata": {},
     "output_type": "execute_result"
    }
   ],
   "source": [
    "jan_sales.columns.values"
   ]
  },
  {
   "cell_type": "markdown",
   "metadata": {
    "pycharm": {
     "name": "#%% md\n"
    }
   },
   "source": [
    "Utvrditi tip podatka svake kolone "
   ]
  },
  {
   "cell_type": "code",
   "execution_count": 7,
   "metadata": {
    "pycharm": {
     "name": "#%%\n"
    },
    "ExecuteTime": {
     "end_time": "2024-05-30T17:14:23.925350Z",
     "start_time": "2024-05-30T17:14:20.732197Z"
    }
   },
   "outputs": [
    {
     "data": {
      "text/plain": "Order ID            object\nProduct             object\nQuantity Ordered    object\nPrice Each          object\nOrder Date          object\nPurchase Address    object\ndtype: object"
     },
     "execution_count": 7,
     "metadata": {},
     "output_type": "execute_result"
    }
   ],
   "source": [
    "jan_sales.dtypes"
   ]
  },
  {
   "cell_type": "markdown",
   "metadata": {
    "pycharm": {
     "name": "#%% md\n"
    }
   },
   "source": [
    "Lep pregled tipova podataka u pandas-u, uključujući i njihovo mapiranje na python tipove podataka, može se naći, na primer, ovde: [https://pbpython.com/pandas_dtypes.html](https://pbpython.com/pandas_dtypes.html)."
   ]
  },
  {
   "cell_type": "markdown",
   "metadata": {
    "pycharm": {
     "name": "#%% md\n"
    }
   },
   "source": [
    "Kompletan skup informacija o data frame-u:"
   ]
  },
  {
   "cell_type": "code",
   "execution_count": 8,
   "metadata": {
    "pycharm": {
     "name": "#%%\n"
    },
    "ExecuteTime": {
     "end_time": "2024-05-30T17:14:23.925801Z",
     "start_time": "2024-05-30T17:14:20.741272Z"
    }
   },
   "outputs": [
    {
     "name": "stdout",
     "output_type": "stream",
     "text": [
      "<class 'pandas.core.frame.DataFrame'>\n",
      "RangeIndex: 9723 entries, 0 to 9722\n",
      "Data columns (total 6 columns):\n",
      " #   Column            Non-Null Count  Dtype \n",
      "---  ------            --------------  ----- \n",
      " 0   Order ID          9697 non-null   object\n",
      " 1   Product           9697 non-null   object\n",
      " 2   Quantity Ordered  9697 non-null   object\n",
      " 3   Price Each        9697 non-null   object\n",
      " 4   Order Date        9697 non-null   object\n",
      " 5   Purchase Address  9697 non-null   object\n",
      "dtypes: object(6)\n",
      "memory usage: 455.9+ KB\n"
     ]
    }
   ],
   "source": [
    "jan_sales.info()"
   ]
  },
  {
   "cell_type": "markdown",
   "metadata": {
    "pycharm": {
     "name": "#%% md\n"
    }
   },
   "source": [
    "### Provera nedostajućih vrednosti\n",
    "\n",
    "Prisustvo nedostajućih vrednosti u data frame-u može se ispitati primenom `isna()` metode:"
   ]
  },
  {
   "cell_type": "code",
   "execution_count": 9,
   "metadata": {
    "pycharm": {
     "name": "#%%\n"
    },
    "ExecuteTime": {
     "end_time": "2024-05-30T17:14:23.926158Z",
     "start_time": "2024-05-30T17:14:20.746206Z"
    }
   },
   "outputs": [
    {
     "data": {
      "text/plain": "Order ID            26\nProduct             26\nQuantity Ordered    26\nPrice Each          26\nOrder Date          26\nPurchase Address    26\ndtype: int64"
     },
     "execution_count": 9,
     "metadata": {},
     "output_type": "execute_result"
    }
   ],
   "source": [
    "jan_sales.isna().sum()"
   ]
  },
  {
   "cell_type": "markdown",
   "metadata": {
    "pycharm": {
     "name": "#%% md\n"
    }
   },
   "source": [
    "#### Uklanjanje redova sa svim nedostajućim vrednostima"
   ]
  },
  {
   "cell_type": "code",
   "execution_count": 10,
   "metadata": {
    "pycharm": {
     "name": "#%%\n"
    },
    "ExecuteTime": {
     "end_time": "2024-05-30T17:14:23.926302Z",
     "start_time": "2024-05-30T17:14:20.753187Z"
    }
   },
   "outputs": [],
   "source": [
    "jan_sales.dropna(how='all', inplace=True)"
   ]
  },
  {
   "cell_type": "code",
   "execution_count": 11,
   "metadata": {
    "pycharm": {
     "name": "#%%\n"
    },
    "ExecuteTime": {
     "end_time": "2024-05-30T17:14:23.926625Z",
     "start_time": "2024-05-30T17:14:20.759255Z"
    }
   },
   "outputs": [
    {
     "data": {
      "text/plain": "0"
     },
     "execution_count": 11,
     "metadata": {},
     "output_type": "execute_result"
    }
   ],
   "source": [
    "jan_sales.isna().sum().sum()"
   ]
  },
  {
   "cell_type": "markdown",
   "metadata": {
    "pycharm": {
     "name": "#%% md\n"
    }
   },
   "source": [
    "### Selekcija pojedinačnih kolona i redova i kreiranje podskupa podataka\n",
    "\n",
    "Selekcija kolona i redova, odnosno kreiranje podskupa podataka, se može uraditi na različite načine, ali je preporučena praksa da se koriste `loc` ili `iloc` metode pandas Dataframe-a i to na sledeći način:\n",
    "\n",
    "- Kada se selekcija redova i kolona vrši izbor na osnovu njihovog rednog broja, trebalo bi koristiti `iloc`\n",
    "\n",
    "- Kada se izbor zasniva na uslovu koje redovi treba da zadovolje i/ili kolone treba izabrati na osnovu njihovih naziva, treba koristiti `loc` "
   ]
  },
  {
   "cell_type": "markdown",
   "metadata": {
    "pycharm": {
     "name": "#%% md\n"
    }
   },
   "source": [
    "**Primer 1**: selektovati prve 3 kolone i prvih 6 redova"
   ]
  },
  {
   "cell_type": "code",
   "execution_count": 12,
   "metadata": {
    "pycharm": {
     "name": "#%%\n"
    },
    "ExecuteTime": {
     "end_time": "2024-05-30T17:14:23.927358Z",
     "start_time": "2024-05-30T17:14:20.764419Z"
    }
   },
   "outputs": [
    {
     "data": {
      "text/plain": "  Order ID                   Product Quantity Ordered\n0   141234                    iPhone                1\n1   141235  Lightning Charging Cable                1\n2   141236          Wired Headphones                2\n3   141237          27in FHD Monitor                1\n4   141238          Wired Headphones                1\n5   141239    AAA Batteries (4-pack)                1",
      "text/html": "<div>\n<style scoped>\n    .dataframe tbody tr th:only-of-type {\n        vertical-align: middle;\n    }\n\n    .dataframe tbody tr th {\n        vertical-align: top;\n    }\n\n    .dataframe thead th {\n        text-align: right;\n    }\n</style>\n<table border=\"1\" class=\"dataframe\">\n  <thead>\n    <tr style=\"text-align: right;\">\n      <th></th>\n      <th>Order ID</th>\n      <th>Product</th>\n      <th>Quantity Ordered</th>\n    </tr>\n  </thead>\n  <tbody>\n    <tr>\n      <th>0</th>\n      <td>141234</td>\n      <td>iPhone</td>\n      <td>1</td>\n    </tr>\n    <tr>\n      <th>1</th>\n      <td>141235</td>\n      <td>Lightning Charging Cable</td>\n      <td>1</td>\n    </tr>\n    <tr>\n      <th>2</th>\n      <td>141236</td>\n      <td>Wired Headphones</td>\n      <td>2</td>\n    </tr>\n    <tr>\n      <th>3</th>\n      <td>141237</td>\n      <td>27in FHD Monitor</td>\n      <td>1</td>\n    </tr>\n    <tr>\n      <th>4</th>\n      <td>141238</td>\n      <td>Wired Headphones</td>\n      <td>1</td>\n    </tr>\n    <tr>\n      <th>5</th>\n      <td>141239</td>\n      <td>AAA Batteries (4-pack)</td>\n      <td>1</td>\n    </tr>\n  </tbody>\n</table>\n</div>"
     },
     "execution_count": 12,
     "metadata": {},
     "output_type": "execute_result"
    }
   ],
   "source": [
    "jan_sales.iloc[:6, :3]"
   ]
  },
  {
   "cell_type": "markdown",
   "metadata": {
    "pycharm": {
     "name": "#%% md\n"
    }
   },
   "source": [
    "**Primer 2**: selektovati poslednjih 5 redova i 1., 2., i 5. kolonu"
   ]
  },
  {
   "cell_type": "code",
   "execution_count": 13,
   "metadata": {
    "pycharm": {
     "name": "#%%\n"
    },
    "ExecuteTime": {
     "end_time": "2024-05-30T17:14:23.928692Z",
     "start_time": "2024-05-30T17:14:20.770633Z"
    }
   },
   "outputs": [
    {
     "data": {
      "text/plain": "     Order ID                 Product      Order Date\n9718   150497            20in Monitor  01/26/19 19:09\n9719   150498        27in FHD Monitor  01/10/19 22:58\n9720   150499         ThinkPad Laptop  01/21/19 14:31\n9721   150500  AAA Batteries (4-pack)  01/15/19 14:21\n9722   150501            Google Phone  01/13/19 16:43",
      "text/html": "<div>\n<style scoped>\n    .dataframe tbody tr th:only-of-type {\n        vertical-align: middle;\n    }\n\n    .dataframe tbody tr th {\n        vertical-align: top;\n    }\n\n    .dataframe thead th {\n        text-align: right;\n    }\n</style>\n<table border=\"1\" class=\"dataframe\">\n  <thead>\n    <tr style=\"text-align: right;\">\n      <th></th>\n      <th>Order ID</th>\n      <th>Product</th>\n      <th>Order Date</th>\n    </tr>\n  </thead>\n  <tbody>\n    <tr>\n      <th>9718</th>\n      <td>150497</td>\n      <td>20in Monitor</td>\n      <td>01/26/19 19:09</td>\n    </tr>\n    <tr>\n      <th>9719</th>\n      <td>150498</td>\n      <td>27in FHD Monitor</td>\n      <td>01/10/19 22:58</td>\n    </tr>\n    <tr>\n      <th>9720</th>\n      <td>150499</td>\n      <td>ThinkPad Laptop</td>\n      <td>01/21/19 14:31</td>\n    </tr>\n    <tr>\n      <th>9721</th>\n      <td>150500</td>\n      <td>AAA Batteries (4-pack)</td>\n      <td>01/15/19 14:21</td>\n    </tr>\n    <tr>\n      <th>9722</th>\n      <td>150501</td>\n      <td>Google Phone</td>\n      <td>01/13/19 16:43</td>\n    </tr>\n  </tbody>\n</table>\n</div>"
     },
     "execution_count": 13,
     "metadata": {},
     "output_type": "execute_result"
    }
   ],
   "source": [
    "jan_sales.iloc[-5:, [0,1,4]]"
   ]
  },
  {
   "cell_type": "markdown",
   "metadata": {
    "pycharm": {
     "name": "#%% md\n"
    }
   },
   "source": [
    "**Primer 3**: Selektovati kolone `Order ID`, `Order Date`, i `Purchase Address` za porudžbine iz Bostona\n",
    "\n",
    "Tip: string vrednostima kolone možemo pristupiti preko `str` polja, tako da onda možemo pozvati bilo koju string metodu nad vrednostima kolone"
   ]
  },
  {
   "cell_type": "code",
   "execution_count": 14,
   "metadata": {
    "pycharm": {
     "name": "#%%\n"
    },
    "ExecuteTime": {
     "end_time": "2024-05-30T17:14:23.929666Z",
     "start_time": "2024-05-30T17:14:20.777182Z"
    }
   },
   "outputs": [
    {
     "data": {
      "text/plain": "     Order ID      Order Date                  Purchase Address\n0      141234  01/22/19 21:25   944 Walnut St, Boston, MA 02215\n17     141251  01/24/19 08:13   414 Walnut St, Boston, MA 02215\n29     141263  01/11/19 23:33   640 Spruce St, Boston, MA 02215\n31     141265  01/01/19 16:52    853 Ridge St, Boston, MA 02215\n37     141271  01/30/19 10:51      90 13th St, Boston, MA 02215\n...       ...             ...                               ...\n9627   150409  01/10/19 02:38   410 Forest St, Boston, MA 02215\n9660   150440  01/10/19 19:19   82 Johnson St, Boston, MA 02215\n9666   150445  01/11/19 13:56  147 Lincoln St, Boston, MA 02215\n9694   150473  01/10/19 09:09  148 Hickory St, Boston, MA 02215\n9722   150501  01/13/19 16:43    428 Cedar St, Boston, MA 02215\n\n[1048 rows x 3 columns]",
      "text/html": "<div>\n<style scoped>\n    .dataframe tbody tr th:only-of-type {\n        vertical-align: middle;\n    }\n\n    .dataframe tbody tr th {\n        vertical-align: top;\n    }\n\n    .dataframe thead th {\n        text-align: right;\n    }\n</style>\n<table border=\"1\" class=\"dataframe\">\n  <thead>\n    <tr style=\"text-align: right;\">\n      <th></th>\n      <th>Order ID</th>\n      <th>Order Date</th>\n      <th>Purchase Address</th>\n    </tr>\n  </thead>\n  <tbody>\n    <tr>\n      <th>0</th>\n      <td>141234</td>\n      <td>01/22/19 21:25</td>\n      <td>944 Walnut St, Boston, MA 02215</td>\n    </tr>\n    <tr>\n      <th>17</th>\n      <td>141251</td>\n      <td>01/24/19 08:13</td>\n      <td>414 Walnut St, Boston, MA 02215</td>\n    </tr>\n    <tr>\n      <th>29</th>\n      <td>141263</td>\n      <td>01/11/19 23:33</td>\n      <td>640 Spruce St, Boston, MA 02215</td>\n    </tr>\n    <tr>\n      <th>31</th>\n      <td>141265</td>\n      <td>01/01/19 16:52</td>\n      <td>853 Ridge St, Boston, MA 02215</td>\n    </tr>\n    <tr>\n      <th>37</th>\n      <td>141271</td>\n      <td>01/30/19 10:51</td>\n      <td>90 13th St, Boston, MA 02215</td>\n    </tr>\n    <tr>\n      <th>...</th>\n      <td>...</td>\n      <td>...</td>\n      <td>...</td>\n    </tr>\n    <tr>\n      <th>9627</th>\n      <td>150409</td>\n      <td>01/10/19 02:38</td>\n      <td>410 Forest St, Boston, MA 02215</td>\n    </tr>\n    <tr>\n      <th>9660</th>\n      <td>150440</td>\n      <td>01/10/19 19:19</td>\n      <td>82 Johnson St, Boston, MA 02215</td>\n    </tr>\n    <tr>\n      <th>9666</th>\n      <td>150445</td>\n      <td>01/11/19 13:56</td>\n      <td>147 Lincoln St, Boston, MA 02215</td>\n    </tr>\n    <tr>\n      <th>9694</th>\n      <td>150473</td>\n      <td>01/10/19 09:09</td>\n      <td>148 Hickory St, Boston, MA 02215</td>\n    </tr>\n    <tr>\n      <th>9722</th>\n      <td>150501</td>\n      <td>01/13/19 16:43</td>\n      <td>428 Cedar St, Boston, MA 02215</td>\n    </tr>\n  </tbody>\n</table>\n<p>1048 rows × 3 columns</p>\n</div>"
     },
     "execution_count": 14,
     "metadata": {},
     "output_type": "execute_result"
    }
   ],
   "source": [
    "jan_sales.loc[jan_sales['Purchase Address'].str.contains('Boston'), ['Order ID', 'Order Date', 'Purchase Address']]"
   ]
  },
  {
   "cell_type": "markdown",
   "metadata": {
    "pycharm": {
     "name": "#%% md\n"
    }
   },
   "source": [
    "**Primer 4**: Selektovati kolone `Order ID`, `Product`, i `Price Each` za porudžbine kod kojih naručena količina nije manja od 3\n",
    "\n",
    "Napomena: Primetite da iako bi kolona `Quantity Ordered` trebalo da sadrži numeričke podatke, njene vrednosti su zapisane kao stringovi: "
   ]
  },
  {
   "cell_type": "code",
   "execution_count": 15,
   "metadata": {
    "pycharm": {
     "name": "#%%\n"
    },
    "ExecuteTime": {
     "end_time": "2024-05-30T17:14:23.930222Z",
     "start_time": "2024-05-30T17:14:20.786666Z"
    }
   },
   "outputs": [
    {
     "data": {
      "text/plain": "str"
     },
     "execution_count": 15,
     "metadata": {},
     "output_type": "execute_result"
    }
   ],
   "source": [
    "type(jan_sales['Quantity Ordered'][0])"
   ]
  },
  {
   "cell_type": "markdown",
   "metadata": {
    "pycharm": {
     "name": "#%% md\n"
    }
   },
   "source": [
    "Tako da je potrebno da prvo transformišemo `Quantity Ordered` kolonu u numerički tip:"
   ]
  },
  {
   "cell_type": "code",
   "execution_count": 16,
   "metadata": {
    "pycharm": {
     "name": "#%%\n"
    },
    "ExecuteTime": {
     "end_time": "2024-05-30T17:14:23.930406Z",
     "start_time": "2024-05-30T17:14:20.793683Z"
    }
   },
   "outputs": [],
   "source": [
    "jan_sales['Quantity Ordered'] = pd.to_numeric(jan_sales['Quantity Ordered'], errors='coerce')"
   ]
  },
  {
   "cell_type": "markdown",
   "metadata": {
    "pycharm": {
     "name": "#%% md\n"
    }
   },
   "source": [
    "Sada se možemo vratiti selekciji redova i kolona:"
   ]
  },
  {
   "cell_type": "code",
   "execution_count": 17,
   "metadata": {
    "pycharm": {
     "name": "#%%\n"
    },
    "ExecuteTime": {
     "end_time": "2024-05-30T17:14:23.931090Z",
     "start_time": "2024-05-30T17:14:20.800302Z"
    }
   },
   "outputs": [
    {
     "data": {
      "text/plain": "     Order ID                 Product Price Each\n12     141246  AAA Batteries (4-pack)       2.99\n52     141285  AAA Batteries (4-pack)       2.99\n58     141290   AA Batteries (4-pack)       3.84\n73     141305  AAA Batteries (4-pack)       2.99\n84     141316  AAA Batteries (4-pack)       2.99\n...       ...                     ...        ...\n9513   150299   AA Batteries (4-pack)       3.84\n9590   150372  AAA Batteries (4-pack)       2.99\n9636   150417        Wired Headphones      11.99\n9659   150439        Wired Headphones      11.99\n9700   150479   AA Batteries (4-pack)       3.84\n\n[216 rows x 3 columns]",
      "text/html": "<div>\n<style scoped>\n    .dataframe tbody tr th:only-of-type {\n        vertical-align: middle;\n    }\n\n    .dataframe tbody tr th {\n        vertical-align: top;\n    }\n\n    .dataframe thead th {\n        text-align: right;\n    }\n</style>\n<table border=\"1\" class=\"dataframe\">\n  <thead>\n    <tr style=\"text-align: right;\">\n      <th></th>\n      <th>Order ID</th>\n      <th>Product</th>\n      <th>Price Each</th>\n    </tr>\n  </thead>\n  <tbody>\n    <tr>\n      <th>12</th>\n      <td>141246</td>\n      <td>AAA Batteries (4-pack)</td>\n      <td>2.99</td>\n    </tr>\n    <tr>\n      <th>52</th>\n      <td>141285</td>\n      <td>AAA Batteries (4-pack)</td>\n      <td>2.99</td>\n    </tr>\n    <tr>\n      <th>58</th>\n      <td>141290</td>\n      <td>AA Batteries (4-pack)</td>\n      <td>3.84</td>\n    </tr>\n    <tr>\n      <th>73</th>\n      <td>141305</td>\n      <td>AAA Batteries (4-pack)</td>\n      <td>2.99</td>\n    </tr>\n    <tr>\n      <th>84</th>\n      <td>141316</td>\n      <td>AAA Batteries (4-pack)</td>\n      <td>2.99</td>\n    </tr>\n    <tr>\n      <th>...</th>\n      <td>...</td>\n      <td>...</td>\n      <td>...</td>\n    </tr>\n    <tr>\n      <th>9513</th>\n      <td>150299</td>\n      <td>AA Batteries (4-pack)</td>\n      <td>3.84</td>\n    </tr>\n    <tr>\n      <th>9590</th>\n      <td>150372</td>\n      <td>AAA Batteries (4-pack)</td>\n      <td>2.99</td>\n    </tr>\n    <tr>\n      <th>9636</th>\n      <td>150417</td>\n      <td>Wired Headphones</td>\n      <td>11.99</td>\n    </tr>\n    <tr>\n      <th>9659</th>\n      <td>150439</td>\n      <td>Wired Headphones</td>\n      <td>11.99</td>\n    </tr>\n    <tr>\n      <th>9700</th>\n      <td>150479</td>\n      <td>AA Batteries (4-pack)</td>\n      <td>3.84</td>\n    </tr>\n  </tbody>\n</table>\n<p>216 rows × 3 columns</p>\n</div>"
     },
     "execution_count": 17,
     "metadata": {},
     "output_type": "execute_result"
    }
   ],
   "source": [
    "jan_sales.loc[jan_sales['Quantity Ordered'] >= 3, ['Order ID', 'Product', 'Price Each']]"
   ]
  },
  {
   "cell_type": "markdown",
   "metadata": {
    "pycharm": {
     "name": "#%% md\n"
    }
   },
   "source": [
    "## Učitavanje podataka o prodaji za sve mesece u 2019. god. i integracija mesečnih podataka o prodaji u jedan data frame\n",
    "\n",
    "Potrebno je da učitamo podatke o prodaji iz svih csv fajlova u 'sales_data' direktorijumu (po jedan fajl za svaki mesec 2019. god.)\n",
    "\n",
    "Prvo ćemo videti kako možemo da selektujemo samo .csv fajlove iz datog direktorijuma:"
   ]
  },
  {
   "cell_type": "code",
   "execution_count": 18,
   "metadata": {
    "pycharm": {
     "name": "#%%\n"
    },
    "ExecuteTime": {
     "end_time": "2024-05-30T17:14:23.931250Z",
     "start_time": "2024-05-30T17:14:20.804374Z"
    }
   },
   "outputs": [],
   "source": [
    "def get_csv_files(fpath):\n",
    "    if not fpath.is_dir():\n",
    "        print(\"Greska! Zadata putanja nije putanja do direktorijuma\")\n",
    "        return None\n",
    "    \n",
    "    csv_files = []\n",
    "    for f in fpath.iterdir():\n",
    "        if f.is_dir(): continue\n",
    "        if f.suffix == '.csv':\n",
    "            csv_files.append(f)\n",
    "    return csv_files"
   ]
  },
  {
   "cell_type": "code",
   "execution_count": 19,
   "outputs": [
    {
     "name": "stdout",
     "output_type": "stream",
     "text": [
      "Sales_December_2019.csv\n",
      "Sales_April_2019.csv\n",
      "Sales_February_2019.csv\n",
      "Sales_March_2019.csv\n",
      "Sales_August_2019.csv\n",
      "Sales_May_2019.csv\n",
      "Sales_November_2019.csv\n",
      "Sales_October_2019.csv\n",
      "Sales_January_2019.csv\n",
      "Sales_September_2019.csv\n",
      "Sales_July_2019.csv\n",
      "Sales_June_2019.csv\n"
     ]
    }
   ],
   "source": [
    "sales_files = get_csv_files(DATA_DIR)\n",
    "if sales_files:\n",
    "    for sale_file in sales_files:\n",
    "        print(sale_file.name)"
   ],
   "metadata": {
    "collapsed": false,
    "pycharm": {
     "name": "#%%\n"
    },
    "ExecuteTime": {
     "end_time": "2024-05-30T17:14:23.931660Z",
     "start_time": "2024-05-30T17:14:20.808248Z"
    }
   }
  },
  {
   "cell_type": "markdown",
   "metadata": {
    "pycharm": {
     "name": "#%% md\n"
    }
   },
   "source": [
    "Sada ćemo, u petlji, uzimati jedan po jedan csv fajl, učitati podatke iz njega i dodati učitane podatke u jedan data frame koji sadrži podatke o prodaji za celu godinu. Za spajanje dva data frame-a, koristimo funkciju `pd.concat`:"
   ]
  },
  {
   "cell_type": "code",
   "execution_count": 20,
   "metadata": {
    "pycharm": {
     "name": "#%%\n"
    },
    "ExecuteTime": {
     "end_time": "2024-05-30T17:14:23.931818Z",
     "start_time": "2024-05-30T17:14:20.812391Z"
    }
   },
   "outputs": [],
   "source": [
    "all_sales = pd.DataFrame()\n",
    "\n",
    "for f in get_csv_files(DATA_DIR):\n",
    "    monthly_sales = pd.read_csv(f)\n",
    "    all_sales = pd.concat([all_sales, monthly_sales])"
   ]
  },
  {
   "cell_type": "code",
   "execution_count": 21,
   "metadata": {
    "pycharm": {
     "name": "#%%\n"
    },
    "ExecuteTime": {
     "end_time": "2024-05-30T17:14:23.932345Z",
     "start_time": "2024-05-30T17:14:21.184589Z"
    }
   },
   "outputs": [
    {
     "data": {
      "text/plain": "  Order ID               Product Quantity Ordered Price Each      Order Date  \\\n0   295665    Macbook Pro Laptop                1       1700  12/30/19 00:01   \n1   295666    LG Washing Machine                1      600.0  12/29/19 07:03   \n2   295667  USB-C Charging Cable                1      11.95  12/12/19 18:21   \n3   295668      27in FHD Monitor                1     149.99  12/22/19 15:13   \n4   295669  USB-C Charging Cable                1      11.95  12/18/19 12:38   \n\n                         Purchase Address  \n0  136 Church St, New York City, NY 10001  \n1     562 2nd St, New York City, NY 10001  \n2    277 Main St, New York City, NY 10001  \n3     410 6th St, San Francisco, CA 94016  \n4           43 Hill St, Atlanta, GA 30301  ",
      "text/html": "<div>\n<style scoped>\n    .dataframe tbody tr th:only-of-type {\n        vertical-align: middle;\n    }\n\n    .dataframe tbody tr th {\n        vertical-align: top;\n    }\n\n    .dataframe thead th {\n        text-align: right;\n    }\n</style>\n<table border=\"1\" class=\"dataframe\">\n  <thead>\n    <tr style=\"text-align: right;\">\n      <th></th>\n      <th>Order ID</th>\n      <th>Product</th>\n      <th>Quantity Ordered</th>\n      <th>Price Each</th>\n      <th>Order Date</th>\n      <th>Purchase Address</th>\n    </tr>\n  </thead>\n  <tbody>\n    <tr>\n      <th>0</th>\n      <td>295665</td>\n      <td>Macbook Pro Laptop</td>\n      <td>1</td>\n      <td>1700</td>\n      <td>12/30/19 00:01</td>\n      <td>136 Church St, New York City, NY 10001</td>\n    </tr>\n    <tr>\n      <th>1</th>\n      <td>295666</td>\n      <td>LG Washing Machine</td>\n      <td>1</td>\n      <td>600.0</td>\n      <td>12/29/19 07:03</td>\n      <td>562 2nd St, New York City, NY 10001</td>\n    </tr>\n    <tr>\n      <th>2</th>\n      <td>295667</td>\n      <td>USB-C Charging Cable</td>\n      <td>1</td>\n      <td>11.95</td>\n      <td>12/12/19 18:21</td>\n      <td>277 Main St, New York City, NY 10001</td>\n    </tr>\n    <tr>\n      <th>3</th>\n      <td>295668</td>\n      <td>27in FHD Monitor</td>\n      <td>1</td>\n      <td>149.99</td>\n      <td>12/22/19 15:13</td>\n      <td>410 6th St, San Francisco, CA 94016</td>\n    </tr>\n    <tr>\n      <th>4</th>\n      <td>295669</td>\n      <td>USB-C Charging Cable</td>\n      <td>1</td>\n      <td>11.95</td>\n      <td>12/18/19 12:38</td>\n      <td>43 Hill St, Atlanta, GA 30301</td>\n    </tr>\n  </tbody>\n</table>\n</div>"
     },
     "execution_count": 21,
     "metadata": {},
     "output_type": "execute_result"
    }
   ],
   "source": [
    "all_sales.head()"
   ]
  },
  {
   "cell_type": "markdown",
   "metadata": {
    "pycharm": {
     "name": "#%% md\n"
    }
   },
   "source": [
    "### Pregled učitanih i integrisanih podataka o prodaji"
   ]
  },
  {
   "cell_type": "code",
   "execution_count": 22,
   "metadata": {
    "pycharm": {
     "name": "#%%\n"
    },
    "ExecuteTime": {
     "end_time": "2024-05-30T17:14:23.932729Z",
     "start_time": "2024-05-30T17:14:21.220098Z"
    }
   },
   "outputs": [
    {
     "name": "stdout",
     "output_type": "stream",
     "text": [
      "<class 'pandas.core.frame.DataFrame'>\n",
      "Index: 186850 entries, 0 to 13621\n",
      "Data columns (total 6 columns):\n",
      " #   Column            Non-Null Count   Dtype \n",
      "---  ------            --------------   ----- \n",
      " 0   Order ID          186305 non-null  object\n",
      " 1   Product           186305 non-null  object\n",
      " 2   Quantity Ordered  186305 non-null  object\n",
      " 3   Price Each        186305 non-null  object\n",
      " 4   Order Date        186305 non-null  object\n",
      " 5   Purchase Address  186305 non-null  object\n",
      "dtypes: object(6)\n",
      "memory usage: 10.0+ MB\n"
     ]
    }
   ],
   "source": [
    "all_sales.info()"
   ]
  },
  {
   "cell_type": "markdown",
   "metadata": {
    "pycharm": {
     "name": "#%% md\n"
    }
   },
   "source": [
    "Obratite pažnju na razliku između broja redova i vrednosti indeksa. Deluje kao da se učitane vrednosti indeksa ponavljaju. Da posle ne bismo imali problema, potrebno je da sredimo, odnosno resetujemo indeks:"
   ]
  },
  {
   "cell_type": "code",
   "execution_count": 23,
   "metadata": {
    "pycharm": {
     "name": "#%%\n"
    },
    "ExecuteTime": {
     "end_time": "2024-05-30T17:14:23.932865Z",
     "start_time": "2024-05-30T17:14:21.226891Z"
    }
   },
   "outputs": [],
   "source": [
    "all_sales.reset_index(drop=True, inplace=True)  "
   ]
  },
  {
   "cell_type": "code",
   "execution_count": 24,
   "metadata": {
    "pycharm": {
     "name": "#%%\n"
    },
    "ExecuteTime": {
     "end_time": "2024-05-30T17:14:23.937236Z",
     "start_time": "2024-05-30T17:14:21.230038Z"
    }
   },
   "outputs": [
    {
     "data": {
      "text/plain": "RangeIndex(start=0, stop=186850, step=1)"
     },
     "execution_count": 24,
     "metadata": {},
     "output_type": "execute_result"
    }
   ],
   "source": [
    "all_sales.index"
   ]
  },
  {
   "cell_type": "markdown",
   "metadata": {
    "pycharm": {
     "name": "#%% md\n"
    }
   },
   "source": [
    "Preimenovaćemo data frame, da smanjimo kucanje: "
   ]
  },
  {
   "cell_type": "code",
   "execution_count": 25,
   "metadata": {
    "pycharm": {
     "name": "#%%\n"
    },
    "ExecuteTime": {
     "end_time": "2024-05-30T17:14:23.937417Z",
     "start_time": "2024-05-30T17:14:21.233001Z"
    }
   },
   "outputs": [],
   "source": [
    "sales = all_sales"
   ]
  },
  {
   "cell_type": "markdown",
   "metadata": {
    "pycharm": {
     "name": "#%% md\n"
    }
   },
   "source": [
    "Primetite da smo samo dali novo ime (referencu) postojećem objektu, odnosno, nismo kreirali novi data frame objekat, već samo novu referencu na postojeći\n",
    "\n",
    "To možemo da potvrdimo:"
   ]
  },
  {
   "cell_type": "code",
   "execution_count": 26,
   "metadata": {
    "pycharm": {
     "name": "#%%\n"
    },
    "ExecuteTime": {
     "end_time": "2024-05-30T17:14:23.937782Z",
     "start_time": "2024-05-30T17:14:21.236161Z"
    }
   },
   "outputs": [
    {
     "data": {
      "text/plain": "True"
     },
     "execution_count": 26,
     "metadata": {},
     "output_type": "execute_result"
    }
   ],
   "source": [
    "sales is all_sales"
   ]
  },
  {
   "cell_type": "code",
   "execution_count": 27,
   "outputs": [
    {
     "data": {
      "text/plain": "True"
     },
     "execution_count": 27,
     "metadata": {},
     "output_type": "execute_result"
    }
   ],
   "source": [
    "id(sales) == id(all_sales)"
   ],
   "metadata": {
    "collapsed": false,
    "ExecuteTime": {
     "end_time": "2024-05-30T17:14:23.938138Z",
     "start_time": "2024-05-30T17:14:21.239393Z"
    }
   }
  },
  {
   "cell_type": "markdown",
   "metadata": {
    "pycharm": {
     "name": "#%% md\n"
    }
   },
   "source": [
    "Ako bismo hteli da kreiramo novi pd.DataFrame objekat, identičan postojećem, bilo bi potrebno da uradimo sledeće:"
   ]
  },
  {
   "cell_type": "code",
   "execution_count": 28,
   "metadata": {
    "pycharm": {
     "name": "#%%\n"
    },
    "ExecuteTime": {
     "end_time": "2024-05-30T17:14:23.938282Z",
     "start_time": "2024-05-30T17:14:21.253Z"
    }
   },
   "outputs": [],
   "source": [
    "all_sales_copy = all_sales.copy() "
   ]
  },
  {
   "cell_type": "code",
   "execution_count": 29,
   "metadata": {
    "pycharm": {
     "name": "#%%\n"
    },
    "ExecuteTime": {
     "end_time": "2024-05-30T17:14:23.938618Z",
     "start_time": "2024-05-30T17:14:21.255863Z"
    }
   },
   "outputs": [
    {
     "data": {
      "text/plain": "False"
     },
     "execution_count": 29,
     "metadata": {},
     "output_type": "execute_result"
    }
   ],
   "source": [
    "all_sales_copy is all_sales"
   ]
  },
  {
   "cell_type": "code",
   "execution_count": 30,
   "outputs": [],
   "source": [
    "del all_sales_copy"
   ],
   "metadata": {
    "collapsed": false,
    "ExecuteTime": {
     "end_time": "2024-05-30T17:14:23.938757Z",
     "start_time": "2024-05-30T17:14:21.261689Z"
    }
   }
  },
  {
   "cell_type": "code",
   "execution_count": 31,
   "outputs": [],
   "source": [
    "del all_sales"
   ],
   "metadata": {
    "collapsed": false,
    "ExecuteTime": {
     "end_time": "2024-05-30T17:14:23.938889Z",
     "start_time": "2024-05-30T17:14:21.264048Z"
    }
   }
  },
  {
   "cell_type": "code",
   "execution_count": 32,
   "outputs": [
    {
     "data": {
      "text/plain": "  Order ID               Product Quantity Ordered Price Each      Order Date  \\\n0   295665    Macbook Pro Laptop                1       1700  12/30/19 00:01   \n1   295666    LG Washing Machine                1      600.0  12/29/19 07:03   \n2   295667  USB-C Charging Cable                1      11.95  12/12/19 18:21   \n3   295668      27in FHD Monitor                1     149.99  12/22/19 15:13   \n4   295669  USB-C Charging Cable                1      11.95  12/18/19 12:38   \n\n                         Purchase Address  \n0  136 Church St, New York City, NY 10001  \n1     562 2nd St, New York City, NY 10001  \n2    277 Main St, New York City, NY 10001  \n3     410 6th St, San Francisco, CA 94016  \n4           43 Hill St, Atlanta, GA 30301  ",
      "text/html": "<div>\n<style scoped>\n    .dataframe tbody tr th:only-of-type {\n        vertical-align: middle;\n    }\n\n    .dataframe tbody tr th {\n        vertical-align: top;\n    }\n\n    .dataframe thead th {\n        text-align: right;\n    }\n</style>\n<table border=\"1\" class=\"dataframe\">\n  <thead>\n    <tr style=\"text-align: right;\">\n      <th></th>\n      <th>Order ID</th>\n      <th>Product</th>\n      <th>Quantity Ordered</th>\n      <th>Price Each</th>\n      <th>Order Date</th>\n      <th>Purchase Address</th>\n    </tr>\n  </thead>\n  <tbody>\n    <tr>\n      <th>0</th>\n      <td>295665</td>\n      <td>Macbook Pro Laptop</td>\n      <td>1</td>\n      <td>1700</td>\n      <td>12/30/19 00:01</td>\n      <td>136 Church St, New York City, NY 10001</td>\n    </tr>\n    <tr>\n      <th>1</th>\n      <td>295666</td>\n      <td>LG Washing Machine</td>\n      <td>1</td>\n      <td>600.0</td>\n      <td>12/29/19 07:03</td>\n      <td>562 2nd St, New York City, NY 10001</td>\n    </tr>\n    <tr>\n      <th>2</th>\n      <td>295667</td>\n      <td>USB-C Charging Cable</td>\n      <td>1</td>\n      <td>11.95</td>\n      <td>12/12/19 18:21</td>\n      <td>277 Main St, New York City, NY 10001</td>\n    </tr>\n    <tr>\n      <th>3</th>\n      <td>295668</td>\n      <td>27in FHD Monitor</td>\n      <td>1</td>\n      <td>149.99</td>\n      <td>12/22/19 15:13</td>\n      <td>410 6th St, San Francisco, CA 94016</td>\n    </tr>\n    <tr>\n      <th>4</th>\n      <td>295669</td>\n      <td>USB-C Charging Cable</td>\n      <td>1</td>\n      <td>11.95</td>\n      <td>12/18/19 12:38</td>\n      <td>43 Hill St, Atlanta, GA 30301</td>\n    </tr>\n  </tbody>\n</table>\n</div>"
     },
     "execution_count": 32,
     "metadata": {},
     "output_type": "execute_result"
    }
   ],
   "source": [
    "sales.head()"
   ],
   "metadata": {
    "collapsed": false,
    "ExecuteTime": {
     "end_time": "2024-05-30T17:14:23.939422Z",
     "start_time": "2024-05-30T17:14:21.269127Z"
    }
   }
  },
  {
   "cell_type": "markdown",
   "source": [
    "## Sređivanje podataka (data wrangling) "
   ],
   "metadata": {
    "collapsed": false
   }
  },
  {
   "cell_type": "code",
   "execution_count": 33,
   "metadata": {
    "pycharm": {
     "name": "#%%\n"
    },
    "ExecuteTime": {
     "end_time": "2024-05-30T17:14:23.939807Z",
     "start_time": "2024-05-30T17:14:21.304696Z"
    }
   },
   "outputs": [
    {
     "name": "stdout",
     "output_type": "stream",
     "text": [
      "<class 'pandas.core.frame.DataFrame'>\n",
      "RangeIndex: 186850 entries, 0 to 186849\n",
      "Data columns (total 6 columns):\n",
      " #   Column            Non-Null Count   Dtype \n",
      "---  ------            --------------   ----- \n",
      " 0   Order ID          186305 non-null  object\n",
      " 1   Product           186305 non-null  object\n",
      " 2   Quantity Ordered  186305 non-null  object\n",
      " 3   Price Each        186305 non-null  object\n",
      " 4   Order Date        186305 non-null  object\n",
      " 5   Purchase Address  186305 non-null  object\n",
      "dtypes: object(6)\n",
      "memory usage: 8.6+ MB\n"
     ]
    }
   ],
   "source": [
    "sales.info()"
   ]
  },
  {
   "cell_type": "markdown",
   "metadata": {
    "pycharm": {
     "name": "#%% md\n"
    }
   },
   "source": [
    "Veliki broj kolona je tipa object, uključujući i one za koje to ne bismo očekivali - konkretno, kolone `Quantity Ordered`, `Price Each` i `Order Date`. To moramo promeniti, ali prvo ćemo se pozabaviti nedostajućim vrednostima."
   ]
  },
  {
   "cell_type": "markdown",
   "source": [
    "### Uklanjanje observacija sa nedostajućim vrednostima\n",
    "\n",
    "Izlaz f. `info()` sugeriše da nedostaju kompletni redovi podataka, odnosno da imamo observacije sa svim nedostajućim vrednostima. Uzećemo uzorak da to proverimo:"
   ],
   "metadata": {
    "collapsed": false
   }
  },
  {
   "cell_type": "code",
   "execution_count": 34,
   "metadata": {
    "pycharm": {
     "name": "#%%\n"
    },
    "ExecuteTime": {
     "end_time": "2024-05-30T17:14:23.940426Z",
     "start_time": "2024-05-30T17:14:21.316189Z"
    }
   },
   "outputs": [
    {
     "data": {
      "text/plain": "       Order ID Product Quantity Ordered Price Each Order Date  \\\n126423      NaN     NaN              NaN        NaN        NaN   \n3865        NaN     NaN              NaN        NaN        NaN   \n176024      NaN     NaN              NaN        NaN        NaN   \n45274       NaN     NaN              NaN        NaN        NaN   \n160873      NaN     NaN              NaN        NaN        NaN   \n156553      NaN     NaN              NaN        NaN        NaN   \n50407       NaN     NaN              NaN        NaN        NaN   \n185200      NaN     NaN              NaN        NaN        NaN   \n38227       NaN     NaN              NaN        NaN        NaN   \n19898       NaN     NaN              NaN        NaN        NaN   \n\n       Purchase Address  \n126423              NaN  \n3865                NaN  \n176024              NaN  \n45274               NaN  \n160873              NaN  \n156553              NaN  \n50407               NaN  \n185200              NaN  \n38227               NaN  \n19898               NaN  ",
      "text/html": "<div>\n<style scoped>\n    .dataframe tbody tr th:only-of-type {\n        vertical-align: middle;\n    }\n\n    .dataframe tbody tr th {\n        vertical-align: top;\n    }\n\n    .dataframe thead th {\n        text-align: right;\n    }\n</style>\n<table border=\"1\" class=\"dataframe\">\n  <thead>\n    <tr style=\"text-align: right;\">\n      <th></th>\n      <th>Order ID</th>\n      <th>Product</th>\n      <th>Quantity Ordered</th>\n      <th>Price Each</th>\n      <th>Order Date</th>\n      <th>Purchase Address</th>\n    </tr>\n  </thead>\n  <tbody>\n    <tr>\n      <th>126423</th>\n      <td>NaN</td>\n      <td>NaN</td>\n      <td>NaN</td>\n      <td>NaN</td>\n      <td>NaN</td>\n      <td>NaN</td>\n    </tr>\n    <tr>\n      <th>3865</th>\n      <td>NaN</td>\n      <td>NaN</td>\n      <td>NaN</td>\n      <td>NaN</td>\n      <td>NaN</td>\n      <td>NaN</td>\n    </tr>\n    <tr>\n      <th>176024</th>\n      <td>NaN</td>\n      <td>NaN</td>\n      <td>NaN</td>\n      <td>NaN</td>\n      <td>NaN</td>\n      <td>NaN</td>\n    </tr>\n    <tr>\n      <th>45274</th>\n      <td>NaN</td>\n      <td>NaN</td>\n      <td>NaN</td>\n      <td>NaN</td>\n      <td>NaN</td>\n      <td>NaN</td>\n    </tr>\n    <tr>\n      <th>160873</th>\n      <td>NaN</td>\n      <td>NaN</td>\n      <td>NaN</td>\n      <td>NaN</td>\n      <td>NaN</td>\n      <td>NaN</td>\n    </tr>\n    <tr>\n      <th>156553</th>\n      <td>NaN</td>\n      <td>NaN</td>\n      <td>NaN</td>\n      <td>NaN</td>\n      <td>NaN</td>\n      <td>NaN</td>\n    </tr>\n    <tr>\n      <th>50407</th>\n      <td>NaN</td>\n      <td>NaN</td>\n      <td>NaN</td>\n      <td>NaN</td>\n      <td>NaN</td>\n      <td>NaN</td>\n    </tr>\n    <tr>\n      <th>185200</th>\n      <td>NaN</td>\n      <td>NaN</td>\n      <td>NaN</td>\n      <td>NaN</td>\n      <td>NaN</td>\n      <td>NaN</td>\n    </tr>\n    <tr>\n      <th>38227</th>\n      <td>NaN</td>\n      <td>NaN</td>\n      <td>NaN</td>\n      <td>NaN</td>\n      <td>NaN</td>\n      <td>NaN</td>\n    </tr>\n    <tr>\n      <th>19898</th>\n      <td>NaN</td>\n      <td>NaN</td>\n      <td>NaN</td>\n      <td>NaN</td>\n      <td>NaN</td>\n      <td>NaN</td>\n    </tr>\n  </tbody>\n</table>\n</div>"
     },
     "execution_count": 34,
     "metadata": {},
     "output_type": "execute_result"
    }
   ],
   "source": [
    "sales.loc[sales.Product.isna(), ].sample(10)"
   ]
  },
  {
   "cell_type": "markdown",
   "metadata": {
    "pycharm": {
     "name": "#%% md\n"
    }
   },
   "source": [
    "Uklonićemo observacije (redove) sa svim nedostajućim vrednostima"
   ]
  },
  {
   "cell_type": "code",
   "execution_count": 35,
   "metadata": {
    "pycharm": {
     "name": "#%%\n"
    },
    "ExecuteTime": {
     "end_time": "2024-05-30T17:14:23.941238Z",
     "start_time": "2024-05-30T17:14:21.354817Z"
    }
   },
   "outputs": [],
   "source": [
    "sales.dropna(how='all', inplace=True)"
   ]
  },
  {
   "cell_type": "code",
   "execution_count": 36,
   "metadata": {
    "pycharm": {
     "name": "#%%\n"
    },
    "ExecuteTime": {
     "end_time": "2024-05-30T17:14:23.941758Z",
     "start_time": "2024-05-30T17:14:21.401064Z"
    }
   },
   "outputs": [
    {
     "data": {
      "text/plain": "0"
     },
     "execution_count": 36,
     "metadata": {},
     "output_type": "execute_result"
    }
   ],
   "source": [
    "sales.isna().sum().sum()"
   ]
  },
  {
   "cell_type": "markdown",
   "metadata": {
    "pycharm": {
     "name": "#%% md\n"
    }
   },
   "source": [
    "### Transformacija varijabli *Quantity Ordered* i *Price Each* u numeričke, a *Order Date* u datetime\n",
    "\n",
    "Korisne smernice za ove oblike transformacije varijabli mogu se naći u odgovorima na [ovo pitanje na StackOverflow-u](https://stackoverflow.com/questions/15891038/change-column-type-in-pandas)"
   ]
  },
  {
   "cell_type": "markdown",
   "metadata": {
    "pycharm": {
     "name": "#%% md\n"
    }
   },
   "source": [
    "Prvo ćemo pokušati da transformišemo `Quantity Ordered` u numeričku kolonu"
   ]
  },
  {
   "cell_type": "code",
   "execution_count": 37,
   "metadata": {
    "pycharm": {
     "name": "#%%\n"
    },
    "ExecuteTime": {
     "end_time": "2024-05-30T17:14:23.942085Z",
     "start_time": "2024-05-30T17:14:21.405248Z"
    }
   },
   "outputs": [
    {
     "name": "stdout",
     "output_type": "stream",
     "text": [
      "Unable to parse string \"Quantity Ordered\" at position 254\n"
     ]
    }
   ],
   "source": [
    "try:\n",
    "    sales['Quantity_Ordered'] = pd.to_numeric(sales['Quantity Ordered'], errors='raise')\n",
    "except ValueError as err:\n",
    "    print(err)"
   ]
  },
  {
   "cell_type": "markdown",
   "metadata": {
    "pycharm": {
     "name": "#%% md\n"
    }
   },
   "source": [
    "Pogledaćemo red (observaciju) gde je došlo do greške:"
   ]
  },
  {
   "cell_type": "code",
   "execution_count": 38,
   "metadata": {
    "pycharm": {
     "name": "#%%\n"
    },
    "ExecuteTime": {
     "end_time": "2024-05-30T17:14:23.942437Z",
     "start_time": "2024-05-30T17:14:21.409425Z"
    }
   },
   "outputs": [
    {
     "data": {
      "text/plain": "Order ID                    Order ID\nProduct                      Product\nQuantity Ordered    Quantity Ordered\nPrice Each                Price Each\nOrder Date                Order Date\nPurchase Address    Purchase Address\nName: 254, dtype: object"
     },
     "execution_count": 38,
     "metadata": {},
     "output_type": "execute_result"
    }
   ],
   "source": [
    "sales.iloc[254,]"
   ]
  },
  {
   "cell_type": "markdown",
   "metadata": {
    "pycharm": {
     "name": "#%% md\n"
    }
   },
   "source": [
    "Red koji je uslovio grešku očigleno sadrži pogrešno unete podatke koji nam nisu potrebni. Tako da ćemo izvršiti konverziju u numerički tip i, pri tome, vrednosti koje ne mogu da se transformišu u numeričke zameniti sa NaN (tj. označiti podatke kao nedostajuće)"
   ]
  },
  {
   "cell_type": "code",
   "execution_count": 39,
   "metadata": {
    "pycharm": {
     "name": "#%%\n"
    },
    "ExecuteTime": {
     "end_time": "2024-05-30T17:14:23.942598Z",
     "start_time": "2024-05-30T17:14:21.471711Z"
    }
   },
   "outputs": [],
   "source": [
    "sales['Quantity_Ordered'] = pd.to_numeric(sales['Quantity Ordered'], errors='coerce')"
   ]
  },
  {
   "cell_type": "markdown",
   "metadata": {
    "pycharm": {
     "name": "#%% md\n"
    }
   },
   "source": [
    "Utvrdićemo broj i procenat uvedenih nedostajućih vrednosti u koloni `Quantity_Ordered`:"
   ]
  },
  {
   "cell_type": "code",
   "execution_count": 40,
   "metadata": {
    "pycharm": {
     "name": "#%%\n"
    },
    "ExecuteTime": {
     "end_time": "2024-05-30T17:14:23.942914Z",
     "start_time": "2024-05-30T17:14:21.475050Z"
    }
   },
   "outputs": [
    {
     "data": {
      "text/plain": "355"
     },
     "execution_count": 40,
     "metadata": {},
     "output_type": "execute_result"
    }
   ],
   "source": [
    "sales.Quantity_Ordered.isna().sum()"
   ]
  },
  {
   "cell_type": "code",
   "execution_count": 41,
   "metadata": {
    "pycharm": {
     "name": "#%%\n"
    },
    "ExecuteTime": {
     "end_time": "2024-05-30T17:14:23.961282Z",
     "start_time": "2024-05-30T17:14:21.484945Z"
    }
   },
   "outputs": [
    {
     "data": {
      "text/plain": "0.19054775770913288"
     },
     "execution_count": 41,
     "metadata": {},
     "output_type": "execute_result"
    }
   ],
   "source": [
    "sales.Quantity_Ordered.isna().mean() * 100"
   ]
  },
  {
   "cell_type": "markdown",
   "metadata": {
    "pycharm": {
     "name": "#%% md\n"
    }
   },
   "source": [
    "Na isti način ćemo transformisati `Price Each` kolonu:"
   ]
  },
  {
   "cell_type": "code",
   "execution_count": 42,
   "outputs": [],
   "source": [
    "sales['Price_Each'] = pd.to_numeric(sales['Price Each'], errors='coerce')"
   ],
   "metadata": {
    "collapsed": false,
    "ExecuteTime": {
     "end_time": "2024-05-30T17:14:23.974258Z",
     "start_time": "2024-05-30T17:14:21.536213Z"
    }
   }
  },
  {
   "cell_type": "code",
   "execution_count": 43,
   "metadata": {
    "pycharm": {
     "name": "#%%\n"
    },
    "ExecuteTime": {
     "end_time": "2024-05-30T17:14:23.980690Z",
     "start_time": "2024-05-30T17:14:21.539222Z"
    }
   },
   "outputs": [
    {
     "data": {
      "text/plain": "355"
     },
     "execution_count": 43,
     "metadata": {},
     "output_type": "execute_result"
    }
   ],
   "source": [
    "sales.Price_Each.isna().sum()"
   ]
  },
  {
   "cell_type": "code",
   "execution_count": 44,
   "metadata": {
    "pycharm": {
     "name": "#%%\n"
    },
    "ExecuteTime": {
     "end_time": "2024-05-30T17:14:23.981100Z",
     "start_time": "2024-05-30T17:14:21.543158Z"
    }
   },
   "outputs": [
    {
     "data": {
      "text/plain": "0.19054775770913288"
     },
     "execution_count": 44,
     "metadata": {},
     "output_type": "execute_result"
    }
   ],
   "source": [
    "sales.Price_Each.isna().mean() * 100"
   ]
  },
  {
   "cell_type": "markdown",
   "metadata": {
    "pycharm": {
     "name": "#%% md\n"
    }
   },
   "source": [
    "Izbacićemo redove gde su naručena količina ili jedinična cena nepoznati (NaN)"
   ]
  },
  {
   "cell_type": "code",
   "execution_count": 45,
   "metadata": {
    "pycharm": {
     "name": "#%%\n"
    },
    "ExecuteTime": {
     "end_time": "2024-05-30T17:14:23.981267Z",
     "start_time": "2024-05-30T17:14:21.547381Z"
    }
   },
   "outputs": [],
   "source": [
    "rows_to_drop = sales.loc[sales.Price_Each.isna() | sales.Quantity_Ordered.isna(),].index"
   ]
  },
  {
   "cell_type": "code",
   "execution_count": 46,
   "metadata": {
    "pycharm": {
     "name": "#%%\n"
    },
    "ExecuteTime": {
     "end_time": "2024-05-30T17:14:23.981410Z",
     "start_time": "2024-05-30T17:14:21.551201Z"
    }
   },
   "outputs": [],
   "source": [
    "sales.drop(rows_to_drop, axis=0, inplace=True)"
   ]
  },
  {
   "cell_type": "markdown",
   "source": [
    "Alternativa za prethodne dve linije koda:"
   ],
   "metadata": {
    "collapsed": false
   }
  },
  {
   "cell_type": "code",
   "execution_count": 47,
   "outputs": [],
   "source": [
    "# sales.dropna(how='any', subset=['Price_Each', 'Quantity_Ordered'], inplace=True)"
   ],
   "metadata": {
    "collapsed": false,
    "ExecuteTime": {
     "end_time": "2024-05-30T17:14:23.981548Z",
     "start_time": "2024-05-30T17:14:21.570362Z"
    }
   }
  },
  {
   "cell_type": "markdown",
   "metadata": {
    "pycharm": {
     "name": "#%% md\n"
    }
   },
   "source": [
    "Proverićemo veličinu data frame-a nakon uklanjanja redova sa svim nedostajućim vrednostima:"
   ]
  },
  {
   "cell_type": "code",
   "execution_count": 48,
   "metadata": {
    "pycharm": {
     "name": "#%%\n"
    },
    "ExecuteTime": {
     "end_time": "2024-05-30T17:14:23.981896Z",
     "start_time": "2024-05-30T17:14:21.573065Z"
    }
   },
   "outputs": [
    {
     "data": {
      "text/plain": "(185950, 8)"
     },
     "execution_count": 48,
     "metadata": {},
     "output_type": "execute_result"
    }
   ],
   "source": [
    "sales.shape"
   ]
  },
  {
   "cell_type": "markdown",
   "metadata": {
    "pycharm": {
     "name": "#%% md\n"
    }
   },
   "source": [
    "Konačno, transformisaćemo `Order Date` u datetime tip"
   ]
  },
  {
   "cell_type": "code",
   "execution_count": 49,
   "outputs": [],
   "source": [
    "try:\n",
    "    sales['Order_Date'] = pd.to_datetime(sales['Order Date'], format=\"%m/%d/%y %H:%M\")\n",
    "except ValueError as err:\n",
    "    print(err)"
   ],
   "metadata": {
    "collapsed": false,
    "ExecuteTime": {
     "end_time": "2024-05-30T17:14:23.982428Z",
     "start_time": "2024-05-30T17:14:21.963056Z"
    }
   }
  },
  {
   "cell_type": "code",
   "execution_count": 50,
   "outputs": [
    {
     "data": {
      "text/plain": "       Order Date          Order_Date\n0  12/30/19 00:01 2019-12-30 00:01:00\n1  12/29/19 07:03 2019-12-29 07:03:00\n2  12/12/19 18:21 2019-12-12 18:21:00\n3  12/22/19 15:13 2019-12-22 15:13:00\n4  12/18/19 12:38 2019-12-18 12:38:00\n5  12/31/19 22:58 2019-12-31 22:58:00\n6  12/16/19 15:10 2019-12-16 15:10:00\n7  12/13/19 09:29 2019-12-13 09:29:00\n8  12/15/19 23:26 2019-12-15 23:26:00\n9  12/28/19 11:51 2019-12-28 11:51:00",
      "text/html": "<div>\n<style scoped>\n    .dataframe tbody tr th:only-of-type {\n        vertical-align: middle;\n    }\n\n    .dataframe tbody tr th {\n        vertical-align: top;\n    }\n\n    .dataframe thead th {\n        text-align: right;\n    }\n</style>\n<table border=\"1\" class=\"dataframe\">\n  <thead>\n    <tr style=\"text-align: right;\">\n      <th></th>\n      <th>Order Date</th>\n      <th>Order_Date</th>\n    </tr>\n  </thead>\n  <tbody>\n    <tr>\n      <th>0</th>\n      <td>12/30/19 00:01</td>\n      <td>2019-12-30 00:01:00</td>\n    </tr>\n    <tr>\n      <th>1</th>\n      <td>12/29/19 07:03</td>\n      <td>2019-12-29 07:03:00</td>\n    </tr>\n    <tr>\n      <th>2</th>\n      <td>12/12/19 18:21</td>\n      <td>2019-12-12 18:21:00</td>\n    </tr>\n    <tr>\n      <th>3</th>\n      <td>12/22/19 15:13</td>\n      <td>2019-12-22 15:13:00</td>\n    </tr>\n    <tr>\n      <th>4</th>\n      <td>12/18/19 12:38</td>\n      <td>2019-12-18 12:38:00</td>\n    </tr>\n    <tr>\n      <th>5</th>\n      <td>12/31/19 22:58</td>\n      <td>2019-12-31 22:58:00</td>\n    </tr>\n    <tr>\n      <th>6</th>\n      <td>12/16/19 15:10</td>\n      <td>2019-12-16 15:10:00</td>\n    </tr>\n    <tr>\n      <th>7</th>\n      <td>12/13/19 09:29</td>\n      <td>2019-12-13 09:29:00</td>\n    </tr>\n    <tr>\n      <th>8</th>\n      <td>12/15/19 23:26</td>\n      <td>2019-12-15 23:26:00</td>\n    </tr>\n    <tr>\n      <th>9</th>\n      <td>12/28/19 11:51</td>\n      <td>2019-12-28 11:51:00</td>\n    </tr>\n  </tbody>\n</table>\n</div>"
     },
     "execution_count": 50,
     "metadata": {},
     "output_type": "execute_result"
    }
   ],
   "source": [
    "sales[['Order Date', 'Order_Date']].head(10)"
   ],
   "metadata": {
    "collapsed": false,
    "ExecuteTime": {
     "end_time": "2024-05-30T17:14:23.983064Z",
     "start_time": "2024-05-30T17:14:21.981121Z"
    }
   }
  },
  {
   "cell_type": "markdown",
   "metadata": {
    "pycharm": {
     "name": "#%% md\n"
    }
   },
   "source": [
    "Nakon ovih transformacija, proverićemo kako sad izgledaju tipovi podataka u data frame-u:"
   ]
  },
  {
   "cell_type": "code",
   "execution_count": 51,
   "metadata": {
    "pycharm": {
     "name": "#%%\n"
    },
    "ExecuteTime": {
     "end_time": "2024-05-30T17:14:23.983447Z",
     "start_time": "2024-05-30T17:14:21.986605Z"
    }
   },
   "outputs": [
    {
     "data": {
      "text/plain": "Order ID                    object\nProduct                     object\nQuantity Ordered            object\nPrice Each                  object\nOrder Date                  object\nPurchase Address            object\nQuantity_Ordered           float64\nPrice_Each                 float64\nOrder_Date          datetime64[ns]\ndtype: object"
     },
     "execution_count": 51,
     "metadata": {},
     "output_type": "execute_result"
    }
   ],
   "source": [
    "sales.dtypes"
   ]
  },
  {
   "cell_type": "markdown",
   "source": [
    "Uklonićemo kolone koje više nisu potrebne:"
   ],
   "metadata": {
    "collapsed": false
   }
  },
  {
   "cell_type": "code",
   "execution_count": 52,
   "outputs": [],
   "source": [
    "sales.drop(columns=['Order Date', 'Price Each', 'Quantity Ordered'], inplace=True)"
   ],
   "metadata": {
    "collapsed": false,
    "ExecuteTime": {
     "end_time": "2024-05-30T17:14:23.983588Z",
     "start_time": "2024-05-30T17:14:21.991931Z"
    }
   }
  },
  {
   "cell_type": "code",
   "execution_count": 53,
   "outputs": [
    {
     "name": "stdout",
     "output_type": "stream",
     "text": [
      "<class 'pandas.core.frame.DataFrame'>\n",
      "Index: 185950 entries, 0 to 186849\n",
      "Data columns (total 6 columns):\n",
      " #   Column            Non-Null Count   Dtype         \n",
      "---  ------            --------------   -----         \n",
      " 0   Order ID          185950 non-null  object        \n",
      " 1   Product           185950 non-null  object        \n",
      " 2   Purchase Address  185950 non-null  object        \n",
      " 3   Quantity_Ordered  185950 non-null  float64       \n",
      " 4   Price_Each        185950 non-null  float64       \n",
      " 5   Order_Date        185950 non-null  datetime64[ns]\n",
      "dtypes: datetime64[ns](1), float64(2), object(3)\n",
      "memory usage: 9.9+ MB\n"
     ]
    }
   ],
   "source": [
    "sales.info()"
   ],
   "metadata": {
    "collapsed": false,
    "ExecuteTime": {
     "end_time": "2024-05-30T17:14:23.983971Z",
     "start_time": "2024-05-30T17:14:22.020957Z"
    }
   }
  },
  {
   "cell_type": "markdown",
   "metadata": {
    "pycharm": {
     "name": "#%% md\n"
    }
   },
   "source": [
    "### Dodavanje *Purchase_City* kolone\n",
    "\n",
    "Sad ćemo videti kako možemo da napravimo novu kolonu od postojeće.\n",
    "\n",
    "Pošto će nam kasnije biti potrebno da uporedimo prodaju po gradovima, dodaćemo kolonu sa nazivom grada u kome je porudžbina napravljena. Nakon imena grada treba da stoji oznaka države, data u zagradi (npr. „Atlanta (GA)“), da bi se omogućilo razlikovanje gradova sa istim nazivima.   "
   ]
  },
  {
   "cell_type": "markdown",
   "metadata": {
    "pycharm": {
     "name": "#%% md\n"
    }
   },
   "source": [
    "Uzećemo uzorak vrednosti kolone `Purchase Address` kako bismo se upoznali sa formatom u kome su adrese zapisane:"
   ]
  },
  {
   "cell_type": "code",
   "execution_count": 54,
   "metadata": {
    "pycharm": {
     "name": "#%%\n"
    },
    "ExecuteTime": {
     "end_time": "2024-05-30T17:14:23.984334Z",
     "start_time": "2024-05-30T17:14:22.028581Z"
    }
   },
   "outputs": [
    {
     "data": {
      "text/plain": "140914      122 Washington St, Dallas, TX 75001\n153107    798 Madison St, Los Angeles, CA 90001\n98762           840 12th St, Portland, OR 97035\n153428            828 Elm St, Seattle, WA 98101\n88790           387 Maple St, Atlanta, GA 30301\nName: Purchase Address, dtype: object"
     },
     "execution_count": 54,
     "metadata": {},
     "output_type": "execute_result"
    }
   ],
   "source": [
    "sales['Purchase Address'].sample(5)"
   ]
  },
  {
   "cell_type": "markdown",
   "metadata": {
    "pycharm": {
     "name": "#%% md\n"
    }
   },
   "source": [
    "Prvo ćemo kreirati funkciju koja izdvaja grad (i oznaku države) iz kolone `Purchase Address`: "
   ]
  },
  {
   "cell_type": "code",
   "execution_count": 55,
   "metadata": {
    "pycharm": {
     "name": "#%%\n"
    },
    "ExecuteTime": {
     "end_time": "2024-05-30T17:14:23.984470Z",
     "start_time": "2024-05-30T17:14:22.037227Z"
    }
   },
   "outputs": [],
   "source": [
    "def get_city_and_state(address):\n",
    "    street, city, state_zip = address.split(',')\n",
    "    state, zip = state_zip.split()\n",
    "    return f\"{city.lstrip()} ({state.lstrip()})\""
   ]
  },
  {
   "cell_type": "markdown",
   "metadata": {
    "pycharm": {
     "name": "#%% md\n"
    }
   },
   "source": [
    "Zatim ćemo koristeći `apply` metodu, primeniti `get_city_and_state()` f. na svaku vrednost serije `Purchase Address`. Ali, prvo ćemo isprobati na uzorku adresa:"
   ]
  },
  {
   "cell_type": "code",
   "execution_count": 56,
   "metadata": {
    "pycharm": {
     "name": "#%%\n"
    },
    "ExecuteTime": {
     "end_time": "2024-05-30T17:14:23.984826Z",
     "start_time": "2024-05-30T17:14:22.040298Z"
    }
   },
   "outputs": [
    {
     "data": {
      "text/plain": "109254    San Francisco (CA)\n148858      Los Angeles (CA)\n138381    San Francisco (CA)\n170988      Los Angeles (CA)\n173568    New York City (NY)\n109128           Austin (TX)\n160832      Los Angeles (CA)\n64867     New York City (NY)\n79288     San Francisco (CA)\n86821     San Francisco (CA)\nName: Purchase Address, dtype: object"
     },
     "execution_count": 56,
     "metadata": {},
     "output_type": "execute_result"
    }
   ],
   "source": [
    "sales['Purchase Address'].sample(10).apply(get_city_and_state)"
   ]
  },
  {
   "cell_type": "markdown",
   "metadata": {
    "pycharm": {
     "name": "#%% md\n"
    }
   },
   "source": [
    "Sad možemo primenti funkciju na sve vrednosti kolone `Purchase Address`, kako bi kreirali novu kolonu - `Purchase_City`"
   ]
  },
  {
   "cell_type": "code",
   "execution_count": 57,
   "metadata": {
    "pycharm": {
     "name": "#%%\n"
    },
    "ExecuteTime": {
     "end_time": "2024-05-30T17:14:23.984962Z",
     "start_time": "2024-05-30T17:14:22.078923Z"
    }
   },
   "outputs": [],
   "source": [
    "sales['Purchase_city'] = sales['Purchase Address'].apply(get_city_and_state)"
   ]
  },
  {
   "cell_type": "code",
   "execution_count": 58,
   "metadata": {
    "pycharm": {
     "name": "#%%\n"
    },
    "ExecuteTime": {
     "end_time": "2024-05-30T17:14:23.985503Z",
     "start_time": "2024-05-30T17:14:22.151973Z"
    }
   },
   "outputs": [
    {
     "data": {
      "text/plain": "                               Purchase Address       Purchase_city\n180022   586 Sunset St, New York City, NY 10001  New York City (NY)\n19883       590 Elm St, New York City, NY 10001  New York City (NY)\n92928      148 14th St, San Francisco, CA 94016  San Francisco (CA)\n109657  403 Lincoln St, San Francisco, CA 94016  San Francisco (CA)\n20651        68 7th St, San Francisco, CA 94016  San Francisco (CA)\n174474     217 Washington St, Seattle, WA 98101        Seattle (WA)\n3847         309 Park St, Los Angeles, CA 90001    Los Angeles (CA)\n174878             67 12th St, Boston, MA 02215         Boston (MA)\n3265              686 1st St, Seattle, WA 98101        Seattle (WA)\n32868       767 9th St, San Francisco, CA 94016  San Francisco (CA)",
      "text/html": "<div>\n<style scoped>\n    .dataframe tbody tr th:only-of-type {\n        vertical-align: middle;\n    }\n\n    .dataframe tbody tr th {\n        vertical-align: top;\n    }\n\n    .dataframe thead th {\n        text-align: right;\n    }\n</style>\n<table border=\"1\" class=\"dataframe\">\n  <thead>\n    <tr style=\"text-align: right;\">\n      <th></th>\n      <th>Purchase Address</th>\n      <th>Purchase_city</th>\n    </tr>\n  </thead>\n  <tbody>\n    <tr>\n      <th>180022</th>\n      <td>586 Sunset St, New York City, NY 10001</td>\n      <td>New York City (NY)</td>\n    </tr>\n    <tr>\n      <th>19883</th>\n      <td>590 Elm St, New York City, NY 10001</td>\n      <td>New York City (NY)</td>\n    </tr>\n    <tr>\n      <th>92928</th>\n      <td>148 14th St, San Francisco, CA 94016</td>\n      <td>San Francisco (CA)</td>\n    </tr>\n    <tr>\n      <th>109657</th>\n      <td>403 Lincoln St, San Francisco, CA 94016</td>\n      <td>San Francisco (CA)</td>\n    </tr>\n    <tr>\n      <th>20651</th>\n      <td>68 7th St, San Francisco, CA 94016</td>\n      <td>San Francisco (CA)</td>\n    </tr>\n    <tr>\n      <th>174474</th>\n      <td>217 Washington St, Seattle, WA 98101</td>\n      <td>Seattle (WA)</td>\n    </tr>\n    <tr>\n      <th>3847</th>\n      <td>309 Park St, Los Angeles, CA 90001</td>\n      <td>Los Angeles (CA)</td>\n    </tr>\n    <tr>\n      <th>174878</th>\n      <td>67 12th St, Boston, MA 02215</td>\n      <td>Boston (MA)</td>\n    </tr>\n    <tr>\n      <th>3265</th>\n      <td>686 1st St, Seattle, WA 98101</td>\n      <td>Seattle (WA)</td>\n    </tr>\n    <tr>\n      <th>32868</th>\n      <td>767 9th St, San Francisco, CA 94016</td>\n      <td>San Francisco (CA)</td>\n    </tr>\n  </tbody>\n</table>\n</div>"
     },
     "execution_count": 58,
     "metadata": {},
     "output_type": "execute_result"
    }
   ],
   "source": [
    "sales[['Purchase Address', 'Purchase_city']].sample(10)"
   ]
  },
  {
   "cell_type": "markdown",
   "source": [
    "Sačuvaćemo transformisani dataset u csv fajl:"
   ],
   "metadata": {
    "collapsed": false
   }
  },
  {
   "cell_type": "code",
   "execution_count": 59,
   "outputs": [],
   "source": [
    "def get_processed_data_dir():\n",
    "    processed_data_dir = Path.cwd() / 'data' / 'processed_data'\n",
    "    if not processed_data_dir.exists():\n",
    "        processed_data_dir.mkdir()\n",
    "    return processed_data_dir\n",
    "\n",
    "sales.to_csv(get_processed_data_dir() / 'all_sales_2019.csv', index=False)"
   ],
   "metadata": {
    "collapsed": false,
    "ExecuteTime": {
     "end_time": "2024-05-30T17:14:23.987782Z",
     "start_time": "2024-05-30T17:14:22.163900Z"
    }
   }
  },
  {
   "cell_type": "markdown",
   "source": [
    "Ili još bolje serijalizovati u .pkl fajl, kako bi se sačuvali svi tipovi podataka:    "
   ],
   "metadata": {
    "collapsed": false
   }
  },
  {
   "cell_type": "code",
   "execution_count": 60,
   "outputs": [],
   "source": [
    "sales.to_pickle(get_processed_data_dir() / 'all_sales_2019.pkl')"
   ],
   "metadata": {
    "collapsed": false,
    "ExecuteTime": {
     "end_time": "2024-05-30T17:14:23.988175Z",
     "start_time": "2024-05-30T17:14:23.164663Z"
    }
   }
  },
  {
   "cell_type": "code",
   "execution_count": 61,
   "outputs": [
    {
     "name": "stdout",
     "output_type": "stream",
     "text": [
      "<class 'pandas.core.frame.DataFrame'>\n",
      "Index: 185950 entries, 0 to 186849\n",
      "Data columns (total 7 columns):\n",
      " #   Column            Non-Null Count   Dtype         \n",
      "---  ------            --------------   -----         \n",
      " 0   Order ID          185950 non-null  object        \n",
      " 1   Product           185950 non-null  object        \n",
      " 2   Purchase Address  185950 non-null  object        \n",
      " 3   Quantity_Ordered  185950 non-null  float64       \n",
      " 4   Price_Each        185950 non-null  float64       \n",
      " 5   Order_Date        185950 non-null  datetime64[ns]\n",
      " 6   Purchase_city     185950 non-null  object        \n",
      "dtypes: datetime64[ns](1), float64(2), object(4)\n",
      "memory usage: 11.3+ MB\n"
     ]
    }
   ],
   "source": [
    "sales_recovered = pd.read_pickle(get_processed_data_dir() / 'all_sales_2019.pkl')\n",
    "sales_recovered.info()"
   ],
   "metadata": {
    "collapsed": false,
    "ExecuteTime": {
     "end_time": "2024-05-30T17:14:23.988678Z",
     "start_time": "2024-05-30T17:14:23.317092Z"
    }
   }
  },
  {
   "cell_type": "code",
   "execution_count": 62,
   "outputs": [],
   "source": [
    "del sales_recovered"
   ],
   "metadata": {
    "collapsed": false,
    "ExecuteTime": {
     "end_time": "2024-05-30T17:14:23.988825Z",
     "start_time": "2024-05-30T17:14:23.441572Z"
    }
   }
  },
  {
   "cell_type": "markdown",
   "metadata": {
    "pycharm": {
     "name": "#%% md\n"
    }
   },
   "source": [
    "## Eksploratorna analiza podataka\n",
    "\n",
    "Sada ćemo pokušati da odgovorimo na neka pitanja vezana za ostvarenu prodaju u 2019. godini, kroz eksploratornu analizu `sales` dataseta"
   ]
  },
  {
   "cell_type": "markdown",
   "metadata": {
    "pycharm": {
     "name": "#%% md\n"
    }
   },
   "source": [
    "### Zadatak 1. Koji je bio najbolji mesec za prodaju? Kolika zarada je ostvarena tog meseca?\n",
    "\n",
    "Da bismo odgovorili na ovo pitanje, potrebno je da:\n",
    "- izračunamo ukupan prihod po porudžbini\n",
    "- izdvojimo mesec iz datuma porudžbine, tako da možemo grupisati porudžbine na mesečnoj osnovi\n",
    "- izračunamo ukupan prihod na mesečnom nivou"
   ]
  },
  {
   "cell_type": "markdown",
   "metadata": {
    "pycharm": {
     "name": "#%% md\n"
    }
   },
   "source": [
    "**Korak 1**: Izračunavanje ukupnog prihoda po porudžbini"
   ]
  },
  {
   "cell_type": "code",
   "execution_count": 63,
   "metadata": {
    "pycharm": {
     "name": "#%%\n"
    },
    "ExecuteTime": {
     "end_time": "2024-05-30T17:14:23.989074Z",
     "start_time": "2024-05-30T17:14:23.445371Z"
    }
   },
   "outputs": [],
   "source": [
    "sales['Total_Price'] = sales.Quantity_Ordered * sales.Price_Each"
   ]
  },
  {
   "cell_type": "markdown",
   "metadata": {
    "pycharm": {
     "name": "#%% md\n"
    }
   },
   "source": [
    "**Korak 2**: Izdvajanje meseca iz datuma porudžbine (`Order_Date`)\n",
    "\n",
    "S obzirom da je `Order_Date` pandas serija tipa datetime, možemo koristiti `dt` da bismo dobili pristup svakoj vrednosti u seriji kao datetime objektu. \n",
    "\n",
    "Kad imamo pristup datumu porudžbine kao datetime objektu, možemo uzeti bilo koji element datuma (godina, mesec, dan, itd.) i vremena porudžbine kroz odgovarajuća polja objekta."
   ]
  },
  {
   "cell_type": "code",
   "execution_count": 64,
   "metadata": {
    "pycharm": {
     "name": "#%%\n"
    },
    "ExecuteTime": {
     "end_time": "2024-05-30T17:14:23.989258Z",
     "start_time": "2024-05-30T17:14:23.449660Z"
    }
   },
   "outputs": [],
   "source": [
    "sales['Order_Month'] = sales.Order_Date.dt.month"
   ]
  },
  {
   "cell_type": "code",
   "execution_count": 65,
   "metadata": {
    "pycharm": {
     "name": "#%%\n"
    },
    "ExecuteTime": {
     "end_time": "2024-05-30T17:14:23.990018Z",
     "start_time": "2024-05-30T17:14:23.462371Z"
    }
   },
   "outputs": [
    {
     "data": {
      "text/plain": "                Order_Date  Order_Month\n118291 2019-10-11 15:14:00           10\n78798  2019-08-11 10:41:00            8\n127996 2019-10-09 09:26:00           10\n3769   2019-12-03 12:05:00           12\n43192  2019-04-02 09:45:00            4\n9123   2019-12-01 12:03:00           12\n64787  2019-03-19 22:07:00            3\n163721 2019-07-14 17:22:00            7\n180754 2019-06-12 21:06:00            6\n74474  2019-08-20 14:15:00            8",
      "text/html": "<div>\n<style scoped>\n    .dataframe tbody tr th:only-of-type {\n        vertical-align: middle;\n    }\n\n    .dataframe tbody tr th {\n        vertical-align: top;\n    }\n\n    .dataframe thead th {\n        text-align: right;\n    }\n</style>\n<table border=\"1\" class=\"dataframe\">\n  <thead>\n    <tr style=\"text-align: right;\">\n      <th></th>\n      <th>Order_Date</th>\n      <th>Order_Month</th>\n    </tr>\n  </thead>\n  <tbody>\n    <tr>\n      <th>118291</th>\n      <td>2019-10-11 15:14:00</td>\n      <td>10</td>\n    </tr>\n    <tr>\n      <th>78798</th>\n      <td>2019-08-11 10:41:00</td>\n      <td>8</td>\n    </tr>\n    <tr>\n      <th>127996</th>\n      <td>2019-10-09 09:26:00</td>\n      <td>10</td>\n    </tr>\n    <tr>\n      <th>3769</th>\n      <td>2019-12-03 12:05:00</td>\n      <td>12</td>\n    </tr>\n    <tr>\n      <th>43192</th>\n      <td>2019-04-02 09:45:00</td>\n      <td>4</td>\n    </tr>\n    <tr>\n      <th>9123</th>\n      <td>2019-12-01 12:03:00</td>\n      <td>12</td>\n    </tr>\n    <tr>\n      <th>64787</th>\n      <td>2019-03-19 22:07:00</td>\n      <td>3</td>\n    </tr>\n    <tr>\n      <th>163721</th>\n      <td>2019-07-14 17:22:00</td>\n      <td>7</td>\n    </tr>\n    <tr>\n      <th>180754</th>\n      <td>2019-06-12 21:06:00</td>\n      <td>6</td>\n    </tr>\n    <tr>\n      <th>74474</th>\n      <td>2019-08-20 14:15:00</td>\n      <td>8</td>\n    </tr>\n  </tbody>\n</table>\n</div>"
     },
     "execution_count": 65,
     "metadata": {},
     "output_type": "execute_result"
    }
   ],
   "source": [
    "sales[['Order_Date', 'Order_Month']].sample(10)"
   ]
  },
  {
   "cell_type": "markdown",
   "metadata": {
    "pycharm": {
     "name": "#%% md\n"
    }
   },
   "source": [
    "**Korak 3**: Izračunavanje ukupnog prihoda za svaki mesec"
   ]
  },
  {
   "cell_type": "code",
   "execution_count": 66,
   "metadata": {
    "pycharm": {
     "name": "#%%\n"
    },
    "ExecuteTime": {
     "end_time": "2024-05-30T17:14:23.990718Z",
     "start_time": "2024-05-30T17:14:23.479115Z"
    }
   },
   "outputs": [
    {
     "data": {
      "text/plain": "Order_Month\n1     1822256.73\n2     2202022.42\n3     2807100.38\n4     3390670.24\n5     3152606.75\n6     2577802.26\n7     2647775.76\n8     2244467.88\n9     2097560.13\n10    3736726.88\n11    3199603.20\n12    4613443.34\nName: Total_Price, dtype: float64"
     },
     "execution_count": 66,
     "metadata": {},
     "output_type": "execute_result"
    }
   ],
   "source": [
    "tot_sales_per_month = sales.groupby('Order_Month')['Total_Price'].sum()\n",
    "tot_sales_per_month"
   ]
  },
  {
   "cell_type": "markdown",
   "metadata": {
    "pycharm": {
     "name": "#%% md\n"
    }
   },
   "source": [
    "Sortiranje rezultata u opdajućem redosledu ukupnog mesečnog prihoda"
   ]
  },
  {
   "cell_type": "code",
   "execution_count": 67,
   "metadata": {
    "pycharm": {
     "name": "#%%\n"
    },
    "ExecuteTime": {
     "end_time": "2024-05-30T17:14:23.991211Z",
     "start_time": "2024-05-30T17:14:23.495028Z"
    }
   },
   "outputs": [
    {
     "data": {
      "text/plain": "Order_Month\n12    4613443.34\n10    3736726.88\n4     3390670.24\n11    3199603.20\n5     3152606.75\n3     2807100.38\n7     2647775.76\n6     2577802.26\n8     2244467.88\n2     2202022.42\n9     2097560.13\n1     1822256.73\nName: Total_Price, dtype: float64"
     },
     "execution_count": 67,
     "metadata": {},
     "output_type": "execute_result"
    }
   ],
   "source": [
    "tot_sales_per_month.sort_values(ascending=False)"
   ]
  },
  {
   "cell_type": "markdown",
   "metadata": {
    "pycharm": {
     "name": "#%% md\n"
    }
   },
   "source": [
    "Možemo predstaviti i sagledati mesečne prihode na (bar) plotu, pošto vizuelno predstavljanje podataka često olakšava razumevanje trendova koji mogu biti prisutni u podacima.\n",
    "\n",
    "Za kreiranje plota, koristićemo Matplotlib bibliotetku, čiju dokumentaciju možete naći [ovde](https://matplotlib.org/3.5.3/api/_as_gen/matplotlib.pyplot.html), dok [ovaj primer](https://matplotlib.org/stable/gallery/lines_bars_and_markers/bar_colors.html#sphx-glr-gallery-lines-bars-and-markers-bar-colors-py) može poslužiti kao dobra polazna osnova za konkretni zadatak vizuelizacije koji imamo.\n",
    "\n",
    "Napomena: Na [ovom GitHub repozitorijumu](https://github.com/matplotlib/cheatsheets) možete naći dobro urađene cheat sheets i savete za korišćenje Mathplotlib bliblioteke."
   ]
  },
  {
   "cell_type": "code",
   "execution_count": 68,
   "metadata": {
    "pycharm": {
     "name": "#%%\n"
    },
    "ExecuteTime": {
     "end_time": "2024-05-30T17:14:23.991940Z",
     "start_time": "2024-05-30T17:14:23.500863Z"
    }
   },
   "outputs": [
    {
     "data": {
      "text/plain": "<Figure size 700x600 with 1 Axes>",
      "image/png": "[encoded data removed]"
     },
     "metadata": {},
     "output_type": "display_data"
    }
   ],
   "source": [
    "fig, ax = plt.subplots(figsize=(7,6))\n",
    "\n",
    "x = tot_sales_per_month.index\n",
    "y = tot_sales_per_month.values\n",
    "\n",
    "ax.bar(x, y)\n",
    "\n",
    "ax.set_xlabel('Months')\n",
    "ax.set_ylabel('Revenue in million USD')\n",
    "ax.set_xticks(range(1,13))\n",
    "ax.set_title('Monthly sales revenue')\n",
    "\n",
    "plt.show()"
   ]
  },
  {
   "cell_type": "markdown",
   "metadata": {
    "pycharm": {
     "name": "#%% md\n"
    }
   },
   "source": [
    "### Zadatak 2. Iz kog grada je naručeno najviše proizvoda?\n",
    "\n",
    "Za potrebe ovog zadatka, grupisaćemo porudžbine prema gradu iz koga dolaze:"
   ]
  },
  {
   "cell_type": "code",
   "execution_count": 69,
   "metadata": {
    "pycharm": {
     "name": "#%%\n"
    },
    "ExecuteTime": {
     "end_time": "2024-05-30T17:14:23.992428Z",
     "start_time": "2024-05-30T17:14:23.707052Z"
    }
   },
   "outputs": [
    {
     "data": {
      "text/plain": "Purchase_city\nAtlanta (GA)          16602.0\nAustin (TX)           11153.0\nBoston (MA)           22528.0\nDallas (TX)           16730.0\nLos Angeles (CA)      33289.0\nNew York City (NY)    27932.0\nPortland (ME)          2750.0\nPortland (OR)         11303.0\nSan Francisco (CA)    50239.0\nSeattle (WA)          16553.0\nName: Quantity_Ordered, dtype: float64"
     },
     "execution_count": 69,
     "metadata": {},
     "output_type": "execute_result"
    }
   ],
   "source": [
    "quantity_per_city = sales.groupby('Purchase_city')['Quantity_Ordered'].sum()\n",
    "quantity_per_city"
   ]
  },
  {
   "cell_type": "markdown",
   "metadata": {
    "pycharm": {
     "name": "#%% md\n"
    }
   },
   "source": [
    "Sortiraćemo rezultate u opadajućem redosledu naručene količine:"
   ]
  },
  {
   "cell_type": "code",
   "execution_count": 70,
   "metadata": {
    "pycharm": {
     "name": "#%%\n"
    },
    "ExecuteTime": {
     "end_time": "2024-05-30T17:14:23.992793Z",
     "start_time": "2024-05-30T17:14:23.733547Z"
    }
   },
   "outputs": [
    {
     "data": {
      "text/plain": "Purchase_city\nSan Francisco (CA)    50239.0\nLos Angeles (CA)      33289.0\nNew York City (NY)    27932.0\nBoston (MA)           22528.0\nDallas (TX)           16730.0\nAtlanta (GA)          16602.0\nSeattle (WA)          16553.0\nPortland (OR)         11303.0\nAustin (TX)           11153.0\nPortland (ME)          2750.0\nName: Quantity_Ordered, dtype: float64"
     },
     "execution_count": 70,
     "metadata": {},
     "output_type": "execute_result"
    }
   ],
   "source": [
    "quantity_per_city.sort_values(ascending=False, inplace=True)\n",
    "quantity_per_city"
   ]
  },
  {
   "cell_type": "markdown",
   "metadata": {
    "pycharm": {
     "name": "#%% md\n"
    }
   },
   "source": [
    "Na kraju, prikazaćemo rezultate vizuelno primenom bar plota.\n",
    "\n",
    "Napomena: za fina podešavanja prikaza plota, brojne korisne metode se mogu naći u [ovom delu](https://matplotlib.org/stable/api/axes_api.html) Matplotlib dokumentacije"
   ]
  },
  {
   "cell_type": "code",
   "execution_count": 71,
   "metadata": {
    "pycharm": {
     "name": "#%%\n"
    },
    "ExecuteTime": {
     "end_time": "2024-05-30T17:14:25.351573Z",
     "start_time": "2024-05-30T17:14:23.743915Z"
    }
   },
   "outputs": [
    {
     "data": {
      "text/plain": "<Figure size 640x480 with 1 Axes>",
      "image/png": "[encoded data removed]"
     },
     "metadata": {},
     "output_type": "display_data"
    }
   ],
   "source": [
    "x = quantity_per_city.index\n",
    "y = quantity_per_city.values\n",
    "\n",
    "_, ax = plt.subplots()\n",
    "ax.bar(x, y, color='purple')\n",
    "ax.set_ylabel(\"Quantity ordered\")\n",
    "ax.set_title(\"Total number of ordered products per city\")\n",
    "ax.tick_params(axis='x', labelrotation=90, labelsize=9)\n",
    "\n",
    "plt.show()"
   ]
  },
  {
   "cell_type": "markdown",
   "metadata": {
    "pycharm": {
     "name": "#%% md\n"
    }
   },
   "source": [
    "### Zadatak 3. Kada, tokom dana, klijenti imaju tendenciju da naprave najvrednije porudžbine?\n",
    "\n",
    "Da bismo odgovorili na ovo pitanje, potrebno je da izdvojimo sate iz `Order_Date` kolone i utvrdimo prosečnu ukupnu cenu porudžbine za svaki sat u toku dana"
   ]
  },
  {
   "cell_type": "markdown",
   "metadata": {
    "pycharm": {
     "name": "#%% md\n"
    }
   },
   "source": [
    "**Korak 1**: Kreiranje 'Order_Hour' kolone"
   ]
  },
  {
   "cell_type": "code",
   "execution_count": 72,
   "metadata": {
    "pycharm": {
     "name": "#%%\n"
    },
    "ExecuteTime": {
     "end_time": "2024-05-30T17:14:25.492305Z",
     "start_time": "2024-05-30T17:14:23.928932Z"
    }
   },
   "outputs": [],
   "source": [
    "sales['Order_Hour'] = sales.Order_Date.dt.hour"
   ]
  },
  {
   "cell_type": "code",
   "execution_count": 73,
   "metadata": {
    "pycharm": {
     "name": "#%%\n"
    },
    "ExecuteTime": {
     "end_time": "2024-05-30T17:14:25.649329Z",
     "start_time": "2024-05-30T17:14:23.941140Z"
    }
   },
   "outputs": [
    {
     "data": {
      "text/plain": "                Order_Date  Order_Hour\n175638 2019-06-09 23:51:00          23\n54102  2019-02-10 11:01:00          11\n136822 2019-10-18 14:55:00          14\n152643 2019-09-25 17:50:00          17\n57083  2019-03-02 13:48:00          13",
      "text/html": "<div>\n<style scoped>\n    .dataframe tbody tr th:only-of-type {\n        vertical-align: middle;\n    }\n\n    .dataframe tbody tr th {\n        vertical-align: top;\n    }\n\n    .dataframe thead th {\n        text-align: right;\n    }\n</style>\n<table border=\"1\" class=\"dataframe\">\n  <thead>\n    <tr style=\"text-align: right;\">\n      <th></th>\n      <th>Order_Date</th>\n      <th>Order_Hour</th>\n    </tr>\n  </thead>\n  <tbody>\n    <tr>\n      <th>175638</th>\n      <td>2019-06-09 23:51:00</td>\n      <td>23</td>\n    </tr>\n    <tr>\n      <th>54102</th>\n      <td>2019-02-10 11:01:00</td>\n      <td>11</td>\n    </tr>\n    <tr>\n      <th>136822</th>\n      <td>2019-10-18 14:55:00</td>\n      <td>14</td>\n    </tr>\n    <tr>\n      <th>152643</th>\n      <td>2019-09-25 17:50:00</td>\n      <td>17</td>\n    </tr>\n    <tr>\n      <th>57083</th>\n      <td>2019-03-02 13:48:00</td>\n      <td>13</td>\n    </tr>\n  </tbody>\n</table>\n</div>"
     },
     "execution_count": 73,
     "metadata": {},
     "output_type": "execute_result"
    }
   ],
   "source": [
    "sales[['Order_Date', 'Order_Hour']].sample(5)"
   ]
  },
  {
   "cell_type": "markdown",
   "metadata": {
    "pycharm": {
     "name": "#%% md\n"
    }
   },
   "source": [
    "**Korak 2**: Grupisanje narudžbina na osnovu `Order_Hour` i izračuvanje prosečne vrednosti `Total_Price` varijable za svaku grupu"
   ]
  },
  {
   "cell_type": "code",
   "execution_count": 74,
   "metadata": {
    "pycharm": {
     "name": "#%%\n"
    },
    "ExecuteTime": {
     "end_time": "2024-05-30T17:14:25.653466Z",
     "start_time": "2024-05-30T17:14:23.953017Z"
    }
   },
   "outputs": [
    {
     "data": {
      "text/plain": "Order_Hour\n0     182.537409\n1     196.113566\n2     188.939212\n3     175.400590\n4     190.469567\n5     174.625148\n6     180.545125\n7     185.702847\n8     190.592866\n9     187.360606\n10    177.657782\n11    185.368644\n12    184.064617\n13    177.705483\n14    189.700722\n15    190.815686\n16    183.416921\n17    195.372200\n18    180.728689\n19    186.977028\n20    186.597664\n21    186.979293\n22    182.220495\n23    187.936963\nName: Total_Price, dtype: float64"
     },
     "execution_count": 74,
     "metadata": {},
     "output_type": "execute_result"
    }
   ],
   "source": [
    "mean_sales_per_hour = sales.groupby('Order_Hour')['Total_Price'].mean()\n",
    "mean_sales_per_hour"
   ]
  },
  {
   "cell_type": "markdown",
   "metadata": {
    "pycharm": {
     "name": "#%% md\n"
    }
   },
   "source": [
    "Sortirati rezultate u opadajućem redosledu prosečne ukupne vrednosti narudžbina"
   ]
  },
  {
   "cell_type": "code",
   "execution_count": 75,
   "metadata": {
    "pycharm": {
     "name": "#%%\n"
    },
    "ExecuteTime": {
     "end_time": "2024-05-30T17:14:25.653776Z",
     "start_time": "2024-05-30T17:14:23.964107Z"
    }
   },
   "outputs": [
    {
     "data": {
      "text/plain": "Order_Hour\n1     196.113566\n17    195.372200\n15    190.815686\n8     190.592866\n4     190.469567\n14    189.700722\n2     188.939212\n23    187.936963\n9     187.360606\n21    186.979293\n19    186.977028\n20    186.597664\n7     185.702847\n11    185.368644\n12    184.064617\n16    183.416921\n0     182.537409\n22    182.220495\n18    180.728689\n6     180.545125\n13    177.705483\n10    177.657782\n3     175.400590\n5     174.625148\nName: Total_Price, dtype: float64"
     },
     "execution_count": 75,
     "metadata": {},
     "output_type": "execute_result"
    }
   ],
   "source": [
    "mean_sales_per_hour.sort_values(ascending=False)"
   ]
  },
  {
   "cell_type": "markdown",
   "metadata": {
    "pycharm": {
     "name": "#%% md\n"
    }
   },
   "source": [
    "Prikaz rezultata u formi linijskog plota"
   ]
  },
  {
   "cell_type": "code",
   "execution_count": 76,
   "metadata": {
    "pycharm": {
     "name": "#%%\n"
    },
    "ExecuteTime": {
     "end_time": "2024-05-30T17:14:25.949285Z",
     "start_time": "2024-05-30T17:14:24.015577Z"
    }
   },
   "outputs": [
    {
     "data": {
      "text/plain": "<Figure size 800x600 with 1 Axes>",
      "image/png": "[encoded data removed]"
     },
     "metadata": {},
     "output_type": "display_data"
    }
   ],
   "source": [
    "x = mean_sales_per_hour.index\n",
    "y = mean_sales_per_hour.values\n",
    "\n",
    "_, ax = plt.subplots(figsize=(8,6))\n",
    "ax.plot(x, y, color='darkred', marker='^')\n",
    "ax.set_xlabel(\"Hours\")\n",
    "ax.set_ylabel(\"Mean price per order in USD\")\n",
    "ax.set_title(\"Mean price per order throughout a day\")\n",
    "ax.set_xticks(range(24))\n",
    "ax.grid(visible=True, axis='x', which='major', color='lightgrey')\n",
    "\n",
    "plt.show()\n"
   ]
  },
  {
   "cell_type": "markdown",
   "metadata": {
    "pycharm": {
     "name": "#%% md\n"
    }
   },
   "source": [
    "### Zadatak 4. Koji proizvodi su se najviše prodavali tokom 2019. god? Koji proizvodi su najviše doprineli ukupnom prihodu?\n",
    "\n",
    "Prvo ćemo utvrditi koliko različitih proizvoda postoji i koliko često su bili naručeni"
   ]
  },
  {
   "cell_type": "code",
   "execution_count": 77,
   "metadata": {
    "pycharm": {
     "name": "#%%\n"
    },
    "ExecuteTime": {
     "end_time": "2024-05-30T17:14:25.949899Z",
     "start_time": "2024-05-30T17:14:24.237872Z"
    }
   },
   "outputs": [
    {
     "data": {
      "text/plain": "19"
     },
     "execution_count": 77,
     "metadata": {},
     "output_type": "execute_result"
    }
   ],
   "source": [
    "sales.Product.nunique()"
   ]
  },
  {
   "cell_type": "code",
   "execution_count": 78,
   "metadata": {
    "pycharm": {
     "name": "#%%\n"
    },
    "ExecuteTime": {
     "end_time": "2024-05-30T17:14:25.950205Z",
     "start_time": "2024-05-30T17:14:24.249071Z"
    }
   },
   "outputs": [
    {
     "data": {
      "text/plain": "Product\nUSB-C Charging Cable          21903\nLightning Charging Cable      21658\nAAA Batteries (4-pack)        20641\nAA Batteries (4-pack)         20577\nWired Headphones              18882\nApple Airpods Headphones      15549\nBose SoundSport Headphones    13325\n27in FHD Monitor               7507\niPhone                         6842\n27in 4K Gaming Monitor         6230\n34in Ultrawide Monitor         6181\nGoogle Phone                   5525\nFlatscreen TV                  4800\nMacbook Pro Laptop             4724\nThinkPad Laptop                4128\n20in Monitor                   4101\nVareebadd Phone                2065\nLG Washing Machine              666\nLG Dryer                        646\nName: count, dtype: int64"
     },
     "execution_count": 78,
     "metadata": {},
     "output_type": "execute_result"
    }
   ],
   "source": [
    "sales.Product.value_counts()"
   ]
  },
  {
   "cell_type": "markdown",
   "metadata": {
    "pycharm": {
     "name": "#%% md\n"
    }
   },
   "source": [
    "Gornja pandas serija nam daje broj porudžbina u kojima se pojavio proizvod, ali ne govori nam o količinama koje su naručene.\n",
    "\n",
    "Potrebno je da za svaki proizvod, uzmemo ukupnu naručenu količinu i ukupnu cenu za sve porudžbine koje se odnose na taj proizvod:"
   ]
  },
  {
   "cell_type": "code",
   "execution_count": 79,
   "metadata": {
    "pycharm": {
     "name": "#%%\n"
    },
    "ExecuteTime": {
     "end_time": "2024-05-30T17:14:25.950883Z",
     "start_time": "2024-05-30T17:14:24.271938Z"
    }
   },
   "outputs": [
    {
     "data": {
      "text/plain": "                            Quantity_Ordered  Total_Price\nProduct                                                  \n20in Monitor                          4129.0    454148.71\n27in 4K Gaming Monitor                6244.0   2435097.56\n27in FHD Monitor                      7550.0   1132424.50\n34in Ultrawide Monitor                6199.0   2355558.01\nAA Batteries (4-pack)                27635.0    106118.40\nAAA Batteries (4-pack)               31017.0     92740.83\nApple Airpods Headphones             15661.0   2349150.00\nBose SoundSport Headphones           13457.0   1345565.43\nFlatscreen TV                         4819.0   1445700.00\nGoogle Phone                          5532.0   3319200.00\nLG Dryer                               646.0    387600.00\nLG Washing Machine                     666.0    399600.00\nLightning Charging Cable             23217.0    347094.15\nMacbook Pro Laptop                    4728.0   8037600.00\nThinkPad Laptop                       4130.0   4129958.70\nUSB-C Charging Cable                 23975.0    286501.25\nVareebadd Phone                       2068.0    827200.00\nWired Headphones                     20557.0    246478.43\niPhone                                6849.0   4794300.00",
      "text/html": "<div>\n<style scoped>\n    .dataframe tbody tr th:only-of-type {\n        vertical-align: middle;\n    }\n\n    .dataframe tbody tr th {\n        vertical-align: top;\n    }\n\n    .dataframe thead th {\n        text-align: right;\n    }\n</style>\n<table border=\"1\" class=\"dataframe\">\n  <thead>\n    <tr style=\"text-align: right;\">\n      <th></th>\n      <th>Quantity_Ordered</th>\n      <th>Total_Price</th>\n    </tr>\n    <tr>\n      <th>Product</th>\n      <th></th>\n      <th></th>\n    </tr>\n  </thead>\n  <tbody>\n    <tr>\n      <th>20in Monitor</th>\n      <td>4129.0</td>\n      <td>454148.71</td>\n    </tr>\n    <tr>\n      <th>27in 4K Gaming Monitor</th>\n      <td>6244.0</td>\n      <td>2435097.56</td>\n    </tr>\n    <tr>\n      <th>27in FHD Monitor</th>\n      <td>7550.0</td>\n      <td>1132424.50</td>\n    </tr>\n    <tr>\n      <th>34in Ultrawide Monitor</th>\n      <td>6199.0</td>\n      <td>2355558.01</td>\n    </tr>\n    <tr>\n      <th>AA Batteries (4-pack)</th>\n      <td>27635.0</td>\n      <td>106118.40</td>\n    </tr>\n    <tr>\n      <th>AAA Batteries (4-pack)</th>\n      <td>31017.0</td>\n      <td>92740.83</td>\n    </tr>\n    <tr>\n      <th>Apple Airpods Headphones</th>\n      <td>15661.0</td>\n      <td>2349150.00</td>\n    </tr>\n    <tr>\n      <th>Bose SoundSport Headphones</th>\n      <td>13457.0</td>\n      <td>1345565.43</td>\n    </tr>\n    <tr>\n      <th>Flatscreen TV</th>\n      <td>4819.0</td>\n      <td>1445700.00</td>\n    </tr>\n    <tr>\n      <th>Google Phone</th>\n      <td>5532.0</td>\n      <td>3319200.00</td>\n    </tr>\n    <tr>\n      <th>LG Dryer</th>\n      <td>646.0</td>\n      <td>387600.00</td>\n    </tr>\n    <tr>\n      <th>LG Washing Machine</th>\n      <td>666.0</td>\n      <td>399600.00</td>\n    </tr>\n    <tr>\n      <th>Lightning Charging Cable</th>\n      <td>23217.0</td>\n      <td>347094.15</td>\n    </tr>\n    <tr>\n      <th>Macbook Pro Laptop</th>\n      <td>4728.0</td>\n      <td>8037600.00</td>\n    </tr>\n    <tr>\n      <th>ThinkPad Laptop</th>\n      <td>4130.0</td>\n      <td>4129958.70</td>\n    </tr>\n    <tr>\n      <th>USB-C Charging Cable</th>\n      <td>23975.0</td>\n      <td>286501.25</td>\n    </tr>\n    <tr>\n      <th>Vareebadd Phone</th>\n      <td>2068.0</td>\n      <td>827200.00</td>\n    </tr>\n    <tr>\n      <th>Wired Headphones</th>\n      <td>20557.0</td>\n      <td>246478.43</td>\n    </tr>\n    <tr>\n      <th>iPhone</th>\n      <td>6849.0</td>\n      <td>4794300.00</td>\n    </tr>\n  </tbody>\n</table>\n</div>"
     },
     "execution_count": 79,
     "metadata": {},
     "output_type": "execute_result"
    }
   ],
   "source": [
    "product_sales = sales.groupby('Product')[['Quantity_Ordered', 'Total_Price']].sum()\n",
    "product_sales"
   ]
  },
  {
   "cell_type": "markdown",
   "metadata": {
    "pycharm": {
     "name": "#%% md\n"
    }
   },
   "source": [
    "Odredićemo top 5 proizvoda po ostvarenom obimu prodaje:"
   ]
  },
  {
   "cell_type": "code",
   "execution_count": 80,
   "metadata": {
    "pycharm": {
     "name": "#%%\n"
    },
    "ExecuteTime": {
     "end_time": "2024-05-30T17:14:25.951217Z",
     "start_time": "2024-05-30T17:14:24.302142Z"
    }
   },
   "outputs": [
    {
     "data": {
      "text/plain": "                          Quantity_Ordered  Total_Price\nProduct                                                \nAAA Batteries (4-pack)             31017.0     92740.83\nAA Batteries (4-pack)              27635.0    106118.40\nUSB-C Charging Cable               23975.0    286501.25\nLightning Charging Cable           23217.0    347094.15\nWired Headphones                   20557.0    246478.43",
      "text/html": "<div>\n<style scoped>\n    .dataframe tbody tr th:only-of-type {\n        vertical-align: middle;\n    }\n\n    .dataframe tbody tr th {\n        vertical-align: top;\n    }\n\n    .dataframe thead th {\n        text-align: right;\n    }\n</style>\n<table border=\"1\" class=\"dataframe\">\n  <thead>\n    <tr style=\"text-align: right;\">\n      <th></th>\n      <th>Quantity_Ordered</th>\n      <th>Total_Price</th>\n    </tr>\n    <tr>\n      <th>Product</th>\n      <th></th>\n      <th></th>\n    </tr>\n  </thead>\n  <tbody>\n    <tr>\n      <th>AAA Batteries (4-pack)</th>\n      <td>31017.0</td>\n      <td>92740.83</td>\n    </tr>\n    <tr>\n      <th>AA Batteries (4-pack)</th>\n      <td>27635.0</td>\n      <td>106118.40</td>\n    </tr>\n    <tr>\n      <th>USB-C Charging Cable</th>\n      <td>23975.0</td>\n      <td>286501.25</td>\n    </tr>\n    <tr>\n      <th>Lightning Charging Cable</th>\n      <td>23217.0</td>\n      <td>347094.15</td>\n    </tr>\n    <tr>\n      <th>Wired Headphones</th>\n      <td>20557.0</td>\n      <td>246478.43</td>\n    </tr>\n  </tbody>\n</table>\n</div>"
     },
     "execution_count": 80,
     "metadata": {},
     "output_type": "execute_result"
    }
   ],
   "source": [
    "product_sales.sort_values(by='Quantity_Ordered', ascending=False).head(5)"
   ]
  },
  {
   "cell_type": "markdown",
   "metadata": {
    "pycharm": {
     "name": "#%% md\n"
    }
   },
   "source": [
    "Takođe, top 5 proizvoda po ostvarenom prihodu:"
   ]
  },
  {
   "cell_type": "code",
   "execution_count": 81,
   "metadata": {
    "pycharm": {
     "name": "#%%\n"
    },
    "ExecuteTime": {
     "end_time": "2024-05-30T17:14:25.971234Z",
     "start_time": "2024-05-30T17:14:24.310081Z"
    }
   },
   "outputs": [
    {
     "data": {
      "text/plain": "                        Quantity_Ordered  Total_Price\nProduct                                              \nMacbook Pro Laptop                4728.0   8037600.00\niPhone                            6849.0   4794300.00\nThinkPad Laptop                   4130.0   4129958.70\nGoogle Phone                      5532.0   3319200.00\n27in 4K Gaming Monitor            6244.0   2435097.56",
      "text/html": "<div>\n<style scoped>\n    .dataframe tbody tr th:only-of-type {\n        vertical-align: middle;\n    }\n\n    .dataframe tbody tr th {\n        vertical-align: top;\n    }\n\n    .dataframe thead th {\n        text-align: right;\n    }\n</style>\n<table border=\"1\" class=\"dataframe\">\n  <thead>\n    <tr style=\"text-align: right;\">\n      <th></th>\n      <th>Quantity_Ordered</th>\n      <th>Total_Price</th>\n    </tr>\n    <tr>\n      <th>Product</th>\n      <th></th>\n      <th></th>\n    </tr>\n  </thead>\n  <tbody>\n    <tr>\n      <th>Macbook Pro Laptop</th>\n      <td>4728.0</td>\n      <td>8037600.00</td>\n    </tr>\n    <tr>\n      <th>iPhone</th>\n      <td>6849.0</td>\n      <td>4794300.00</td>\n    </tr>\n    <tr>\n      <th>ThinkPad Laptop</th>\n      <td>4130.0</td>\n      <td>4129958.70</td>\n    </tr>\n    <tr>\n      <th>Google Phone</th>\n      <td>5532.0</td>\n      <td>3319200.00</td>\n    </tr>\n    <tr>\n      <th>27in 4K Gaming Monitor</th>\n      <td>6244.0</td>\n      <td>2435097.56</td>\n    </tr>\n  </tbody>\n</table>\n</div>"
     },
     "execution_count": 81,
     "metadata": {},
     "output_type": "execute_result"
    }
   ],
   "source": [
    "product_sales.sort_values(by='Total_Price', ascending=False).head(5)"
   ]
  },
  {
   "cell_type": "markdown",
   "metadata": {
    "pycharm": {
     "name": "#%% md\n"
    }
   },
   "source": [
    "Predstavićemo ove rezultate i vizuelno. Konkretno, napravićemo dve horizontalna bar plota, jedan pored drugog, pri čemu će prvi prikazivati ukupan prihod po proizvodu, a drugi prodatu količinu proizvoda. Sortiraćemo plotove na osnovu ukupnog prihoda, tako da proizvodi sa najvećim prihodom budu prikazani pri vrhu plota.\n",
    "\n",
    "Smernice za kreiranje horizontalnog bar plota možete naći, na primer, u [ovom primeru](https://matplotlib.org/stable/gallery/lines_bars_and_markers/barh.html) iz Mathplotlib dokumentacije."
   ]
  },
  {
   "cell_type": "code",
   "execution_count": 82,
   "metadata": {
    "pycharm": {
     "name": "#%%\n"
    },
    "ExecuteTime": {
     "end_time": "2024-05-30T17:14:26.119514Z",
     "start_time": "2024-05-30T17:14:24.339727Z"
    }
   },
   "outputs": [
    {
     "data": {
      "text/plain": "<Figure size 700x800 with 2 Axes>",
      "image/png": "[encoded data removed]"
     },
     "metadata": {},
     "output_type": "display_data"
    }
   ],
   "source": [
    "product_sales.sort_values(by=\"Total_Price\", inplace=True)\n",
    "\n",
    "x = product_sales.index\n",
    "y1 = product_sales.Total_Price\n",
    "y2 = product_sales.Quantity_Ordered\n",
    "\n",
    "_, (ax1, ax2) = plt.subplots(nrows=1, ncols=2, sharey=True, figsize=(7,8))\n",
    "ax1.barh(x, y1, color='lightseagreen')\n",
    "ax1.set_title(\"Total product earnings\")\n",
    "ax1.set_xlabel(\"Earnings in million USD\")\n",
    "ax1.grid(axis='x', visible=True, which='major', color='lightgrey')\n",
    "\n",
    "ax2.barh(x, y2, color='purple')\n",
    "ax2.set_title(\"Total sold quantity\")\n",
    "ax2.set_xlabel(\"Quantity\")\n",
    "\n",
    "ax2.grid(axis='x', visible=True, which='major', color='lightgrey')\n",
    "\n",
    "plt.show()"
   ]
  },
  {
   "cell_type": "markdown",
   "metadata": {
    "pycharm": {
     "name": "#%% md\n"
    }
   },
   "source": [
    "### Zadatak 5. Pregled ostvarenog prihoda od prodaje po proizvodima i gradovima"
   ]
  },
  {
   "cell_type": "markdown",
   "metadata": {
    "pycharm": {
     "name": "#%% md\n"
    }
   },
   "source": [
    "Podatke možemo grupisati na osnovu više od jednog atributa (kolone). U ovom slučaju, izvršićemo grupisanje na osnovu proizvoda i grada iz koga je porudžbina stigla, i izračunati ukupan prihod za svaki proizvod u svakom gradu:"
   ]
  },
  {
   "cell_type": "code",
   "execution_count": 83,
   "metadata": {
    "pycharm": {
     "name": "#%%\n"
    },
    "ExecuteTime": {
     "end_time": "2024-05-30T17:14:26.166497Z",
     "start_time": "2024-05-30T17:14:24.632762Z"
    }
   },
   "outputs": [
    {
     "data": {
      "text/plain": "Product       Purchase_city     \n20in Monitor  Atlanta (GA)            37616.58\n              Austin (TX)             25297.70\n              Boston (MA)             43336.06\n              Dallas (TX)             37726.57\n              Los Angeles (CA)        72373.42\n                                       ...    \niPhone        New York City (NY)     616700.00\n              Portland (ME)           55300.00\n              Portland (OR)          259700.00\n              San Francisco (CA)    1162700.00\n              Seattle (WA)           382200.00\nName: Total_Price, Length: 190, dtype: float64"
     },
     "execution_count": 83,
     "metadata": {},
     "output_type": "execute_result"
    }
   ],
   "source": [
    "sales_per_product_and_city = sales.groupby(['Product', 'Purchase_city'])['Total_Price'].sum()\n",
    "sales_per_product_and_city"
   ]
  },
  {
   "cell_type": "markdown",
   "metadata": {
    "pycharm": {
     "name": "#%% md\n"
    }
   },
   "source": [
    "Primetite da smo kao rezultat dobili pandas seriju sa dva indeksa - `Product` i `Purchase_City`:"
   ]
  },
  {
   "cell_type": "code",
   "execution_count": 84,
   "metadata": {
    "pycharm": {
     "name": "#%%\n"
    },
    "ExecuteTime": {
     "end_time": "2024-05-30T17:14:26.166859Z",
     "start_time": "2024-05-30T17:14:24.669414Z"
    }
   },
   "outputs": [
    {
     "name": "stdout",
     "output_type": "stream",
     "text": [
      "<class 'pandas.core.series.Series'>\n",
      "MultiIndex: 190 entries, ('20in Monitor', 'Atlanta (GA)') to ('iPhone', 'Seattle (WA)')\n",
      "Series name: Total_Price\n",
      "Non-Null Count  Dtype  \n",
      "--------------  -----  \n",
      "190 non-null    float64\n",
      "dtypes: float64(1)\n",
      "memory usage: 2.7+ KB\n"
     ]
    }
   ],
   "source": [
    "sales_per_product_and_city.info()"
   ]
  },
  {
   "cell_type": "code",
   "execution_count": 85,
   "metadata": {
    "pycharm": {
     "name": "#%%\n"
    },
    "ExecuteTime": {
     "end_time": "2024-05-30T17:14:26.167391Z",
     "start_time": "2024-05-30T17:14:24.675459Z"
    }
   },
   "outputs": [
    {
     "data": {
      "text/plain": "MultiIndex([('20in Monitor',       'Atlanta (GA)'),\n            ('20in Monitor',        'Austin (TX)'),\n            ('20in Monitor',        'Boston (MA)'),\n            ('20in Monitor',        'Dallas (TX)'),\n            ('20in Monitor',   'Los Angeles (CA)'),\n            ('20in Monitor', 'New York City (NY)'),\n            ('20in Monitor',      'Portland (ME)'),\n            ('20in Monitor',      'Portland (OR)'),\n            ('20in Monitor', 'San Francisco (CA)'),\n            ('20in Monitor',       'Seattle (WA)'),\n            ...\n            (      'iPhone',       'Atlanta (GA)'),\n            (      'iPhone',        'Austin (TX)'),\n            (      'iPhone',        'Boston (MA)'),\n            (      'iPhone',        'Dallas (TX)'),\n            (      'iPhone',   'Los Angeles (CA)'),\n            (      'iPhone', 'New York City (NY)'),\n            (      'iPhone',      'Portland (ME)'),\n            (      'iPhone',      'Portland (OR)'),\n            (      'iPhone', 'San Francisco (CA)'),\n            (      'iPhone',       'Seattle (WA)')],\n           names=['Product', 'Purchase_city'], length=190)"
     },
     "execution_count": 85,
     "metadata": {},
     "output_type": "execute_result"
    }
   ],
   "source": [
    "sales_per_product_and_city.index"
   ]
  },
  {
   "cell_type": "markdown",
   "metadata": {
    "pycharm": {
     "name": "#%% md\n"
    }
   },
   "source": [
    "Ovakvu seriju možemo transformisati u data frame uz pomoć `unstack()` metode:"
   ]
  },
  {
   "cell_type": "code",
   "execution_count": 86,
   "metadata": {
    "pycharm": {
     "name": "#%%\n"
    },
    "ExecuteTime": {
     "end_time": "2024-05-30T17:14:26.167517Z",
     "start_time": "2024-05-30T17:14:24.679868Z"
    }
   },
   "outputs": [],
   "source": [
    "product_city_sales_df = sales_per_product_and_city.unstack()"
   ]
  },
  {
   "cell_type": "code",
   "execution_count": 87,
   "metadata": {
    "pycharm": {
     "name": "#%%\n"
    },
    "ExecuteTime": {
     "end_time": "2024-05-30T17:14:26.168087Z",
     "start_time": "2024-05-30T17:14:24.696112Z"
    }
   },
   "outputs": [
    {
     "data": {
      "text/plain": "Purchase_city               Atlanta (GA)  Austin (TX)  Boston (MA)  \\\nProduct                                                              \n20in Monitor                    37616.58     25297.70     43336.06   \n27in 4K Gaming Monitor         192265.07    124016.82    263243.25   \n27in FHD Monitor                88194.12     53996.40    119542.03   \n34in Ultrawide Monitor         183155.18    124636.72    254973.29   \nAA Batteries (4-pack)            8421.12      5468.16     11581.44   \nAAA Batteries (4-pack)           7053.41      4987.32     10348.39   \nApple Airpods Headphones       189900.00    133050.00    247950.00   \nBose SoundSport Headphones     108389.16     70692.93    141585.84   \nFlatscreen TV                  122100.00     72600.00    166200.00   \nGoogle Phone                   270600.00    164400.00    355800.00   \n\nPurchase_city               Dallas (TX)  Los Angeles (CA)  New York City (NY)  \\\nProduct                                                                         \n20in Monitor                   37726.57          72373.42            61594.40   \n27in 4K Gaming Monitor        187585.19         391159.97           328371.58   \n27in FHD Monitor               88044.13         183437.77           160789.28   \n34in Ultrawide Monitor        194554.88         362890.45           329831.32   \nAA Batteries (4-pack)           8682.24          17041.92            13939.20   \nAAA Batteries (4-pack)          7486.96          14851.33            12330.76   \nApple Airpods Headphones      179100.00         370950.00           314700.00   \nBose SoundSport Headphones    106289.37         212478.75           179382.06   \nFlatscreen TV                 126000.00         218100.00           188400.00   \nGoogle Phone                  276600.00         508800.00           454800.00   \n\nPurchase_city               Portland (ME)  Portland (OR)  San Francisco (CA)  \\\nProduct                                                                        \n20in Monitor                      6489.41       24087.81           109990.00   \n27in 4K Gaming Monitor           33149.15      136106.51           569385.40   \n27in FHD Monitor                 17098.86       62395.84           272081.86   \n34in Ultrawide Monitor           28879.24      124256.73           549465.54   \nAA Batteries (4-pack)             1493.76        5952.00            25171.20   \nAAA Batteries (4-pack)            1070.42        5148.78            22149.92   \nApple Airpods Headphones         34950.00      129900.00           559950.00   \nBose SoundSport Headphones       17998.20       70892.91           331666.83   \nFlatscreen TV                    18600.00       75000.00           346200.00   \nGoogle Phone                     46200.00      166800.00           814800.00   \n\nPurchase_city               Seattle (WA)  \nProduct                                   \n20in Monitor                    35636.76  \n27in 4K Gaming Monitor         209814.62  \n27in FHD Monitor                86844.21  \n34in Ultrawide Monitor         202914.66  \nAA Batteries (4-pack)            8367.36  \nAAA Batteries (4-pack)           7313.54  \nApple Airpods Headphones       188700.00  \nBose SoundSport Headphones     106189.38  \nFlatscreen TV                  112500.00  \nGoogle Phone                   260400.00  ",
      "text/html": "<div>\n<style scoped>\n    .dataframe tbody tr th:only-of-type {\n        vertical-align: middle;\n    }\n\n    .dataframe tbody tr th {\n        vertical-align: top;\n    }\n\n    .dataframe thead th {\n        text-align: right;\n    }\n</style>\n<table border=\"1\" class=\"dataframe\">\n  <thead>\n    <tr style=\"text-align: right;\">\n      <th>Purchase_city</th>\n      <th>Atlanta (GA)</th>\n      <th>Austin (TX)</th>\n      <th>Boston (MA)</th>\n      <th>Dallas (TX)</th>\n      <th>Los Angeles (CA)</th>\n      <th>New York City (NY)</th>\n      <th>Portland (ME)</th>\n      <th>Portland (OR)</th>\n      <th>San Francisco (CA)</th>\n      <th>Seattle (WA)</th>\n    </tr>\n    <tr>\n      <th>Product</th>\n      <th></th>\n      <th></th>\n      <th></th>\n      <th></th>\n      <th></th>\n      <th></th>\n      <th></th>\n      <th></th>\n      <th></th>\n      <th></th>\n    </tr>\n  </thead>\n  <tbody>\n    <tr>\n      <th>20in Monitor</th>\n      <td>37616.58</td>\n      <td>25297.70</td>\n      <td>43336.06</td>\n      <td>37726.57</td>\n      <td>72373.42</td>\n      <td>61594.40</td>\n      <td>6489.41</td>\n      <td>24087.81</td>\n      <td>109990.00</td>\n      <td>35636.76</td>\n    </tr>\n    <tr>\n      <th>27in 4K Gaming Monitor</th>\n      <td>192265.07</td>\n      <td>124016.82</td>\n      <td>263243.25</td>\n      <td>187585.19</td>\n      <td>391159.97</td>\n      <td>328371.58</td>\n      <td>33149.15</td>\n      <td>136106.51</td>\n      <td>569385.40</td>\n      <td>209814.62</td>\n    </tr>\n    <tr>\n      <th>27in FHD Monitor</th>\n      <td>88194.12</td>\n      <td>53996.40</td>\n      <td>119542.03</td>\n      <td>88044.13</td>\n      <td>183437.77</td>\n      <td>160789.28</td>\n      <td>17098.86</td>\n      <td>62395.84</td>\n      <td>272081.86</td>\n      <td>86844.21</td>\n    </tr>\n    <tr>\n      <th>34in Ultrawide Monitor</th>\n      <td>183155.18</td>\n      <td>124636.72</td>\n      <td>254973.29</td>\n      <td>194554.88</td>\n      <td>362890.45</td>\n      <td>329831.32</td>\n      <td>28879.24</td>\n      <td>124256.73</td>\n      <td>549465.54</td>\n      <td>202914.66</td>\n    </tr>\n    <tr>\n      <th>AA Batteries (4-pack)</th>\n      <td>8421.12</td>\n      <td>5468.16</td>\n      <td>11581.44</td>\n      <td>8682.24</td>\n      <td>17041.92</td>\n      <td>13939.20</td>\n      <td>1493.76</td>\n      <td>5952.00</td>\n      <td>25171.20</td>\n      <td>8367.36</td>\n    </tr>\n    <tr>\n      <th>AAA Batteries (4-pack)</th>\n      <td>7053.41</td>\n      <td>4987.32</td>\n      <td>10348.39</td>\n      <td>7486.96</td>\n      <td>14851.33</td>\n      <td>12330.76</td>\n      <td>1070.42</td>\n      <td>5148.78</td>\n      <td>22149.92</td>\n      <td>7313.54</td>\n    </tr>\n    <tr>\n      <th>Apple Airpods Headphones</th>\n      <td>189900.00</td>\n      <td>133050.00</td>\n      <td>247950.00</td>\n      <td>179100.00</td>\n      <td>370950.00</td>\n      <td>314700.00</td>\n      <td>34950.00</td>\n      <td>129900.00</td>\n      <td>559950.00</td>\n      <td>188700.00</td>\n    </tr>\n    <tr>\n      <th>Bose SoundSport Headphones</th>\n      <td>108389.16</td>\n      <td>70692.93</td>\n      <td>141585.84</td>\n      <td>106289.37</td>\n      <td>212478.75</td>\n      <td>179382.06</td>\n      <td>17998.20</td>\n      <td>70892.91</td>\n      <td>331666.83</td>\n      <td>106189.38</td>\n    </tr>\n    <tr>\n      <th>Flatscreen TV</th>\n      <td>122100.00</td>\n      <td>72600.00</td>\n      <td>166200.00</td>\n      <td>126000.00</td>\n      <td>218100.00</td>\n      <td>188400.00</td>\n      <td>18600.00</td>\n      <td>75000.00</td>\n      <td>346200.00</td>\n      <td>112500.00</td>\n    </tr>\n    <tr>\n      <th>Google Phone</th>\n      <td>270600.00</td>\n      <td>164400.00</td>\n      <td>355800.00</td>\n      <td>276600.00</td>\n      <td>508800.00</td>\n      <td>454800.00</td>\n      <td>46200.00</td>\n      <td>166800.00</td>\n      <td>814800.00</td>\n      <td>260400.00</td>\n    </tr>\n  </tbody>\n</table>\n</div>"
     },
     "execution_count": 87,
     "metadata": {},
     "output_type": "execute_result"
    }
   ],
   "source": [
    "product_city_sales_df.head(10)"
   ]
  },
  {
   "cell_type": "code",
   "execution_count": 88,
   "outputs": [
    {
     "data": {
      "text/plain": "(19, 10)"
     },
     "execution_count": 88,
     "metadata": {},
     "output_type": "execute_result"
    }
   ],
   "source": [
    "product_city_sales_df.shape"
   ],
   "metadata": {
    "collapsed": false,
    "ExecuteTime": {
     "end_time": "2024-05-30T17:14:26.168320Z",
     "start_time": "2024-05-30T17:14:24.701922Z"
    }
   }
  },
  {
   "cell_type": "markdown",
   "metadata": {
    "pycharm": {
     "name": "#%% md\n"
    }
   },
   "source": [
    "S obzirom da je ovakav prikaz ostvarene prodaje vrlo nepregledan, predstavićemo ga vizuelno, koristeći `heatmap`. \n",
    "\n",
    "Korisne smernice za kreiranje heatmap-e date su, na primer, [ovde](https://python-charts.com/correlation/heatmap-matplotlib/).\n",
    "\n",
    "Na [ovoj stranici](https://matplotlib.org/stable/users/explain/colors/colormaps.html) Matplotlib dokumentacije možete naći pregled predefinisanih kolor mapa."
   ]
  },
  {
   "cell_type": "code",
   "execution_count": 89,
   "metadata": {
    "pycharm": {
     "name": "#%%\n"
    },
    "ExecuteTime": {
     "end_time": "2024-05-30T17:14:26.236131Z",
     "start_time": "2024-05-30T17:14:24.730834Z"
    }
   },
   "outputs": [
    {
     "data": {
      "text/plain": "<Figure size 600x900 with 2 Axes>",
      "image/png": "[encoded data removed]"
     },
     "metadata": {},
     "output_type": "display_data"
    }
   ],
   "source": [
    "_, ax = plt.subplots(figsize=(6,9))\n",
    "im = ax.imshow(product_city_sales_df, cmap='Spectral_r')\n",
    "\n",
    "# Add the color bar\n",
    "cbar = ax.figure.colorbar(im, ax = ax)\n",
    "\n",
    "# Add the labels\n",
    "x_ticks = product_city_sales_df.columns.tolist()\n",
    "y_ticks = product_city_sales_df.index.tolist()\n",
    "\n",
    "ax.set_xticks(range(len(x_ticks)), labels = x_ticks)\n",
    "ax.tick_params(axis='x', labelrotation=90, labelsize=9)\n",
    "ax.set_yticks(range(len(y_ticks)), labels = y_ticks)\n",
    "ax.tick_params(axis='y', labelsize=9)\n",
    "\n",
    "plt.show()"
   ]
  },
  {
   "cell_type": "markdown",
   "metadata": {
    "pycharm": {
     "name": "#%% md\n"
    }
   },
   "source": [
    "### Zadaci za vežbu\n",
    "\n",
    "1. Uradite pregled ukupnog ostvarenog prihoda po proizvodima i državama.\n",
    "\n",
    "2. Kojih dana, tokom nedelje, je prosečna vrednost porudžbina bila najviša?\n"
   ]
  }
 ],
 "metadata": {
  "kernelspec": {
   "display_name": "Python 3 (ipykernel)",
   "language": "python",
   "name": "python3"
  },
  "language_info": {
   "codemirror_mode": {
    "name": "ipython",
    "version": 3
   },
   "file_extension": ".py",
   "mimetype": "text/x-python",
   "name": "python",
   "nbconvert_exporter": "python",
   "pygments_lexer": "ipython3",
   "version": "3.10.0"
  }
 },
 "nbformat": 4,
 "nbformat_minor": 4
}
